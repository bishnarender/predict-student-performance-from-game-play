{
 "cells": [
  {
   "cell_type": "code",
   "execution_count": 1,
   "id": "af6b2a24",
   "metadata": {},
   "outputs": [],
   "source": [
    "# This file is a modified version of the original:\n",
    "# https://www.kaggle.com/mark4h/jowilder-2nd-place-solution-0-preprocess-data"
   ]
  },
  {
   "cell_type": "code",
   "execution_count": 2,
   "id": "dcf06c82",
   "metadata": {
    "_cell_guid": "b1076dfc-b9ad-4769-8c92-a6c4dae69d19",
    "_uuid": "8f2839f25d086af736a60e9eeb907d3b93b6e0e5",
    "execution": {
     "iopub.execute_input": "2023-07-03T22:19:56.358156Z",
     "iopub.status.busy": "2023-07-03T22:19:56.357275Z",
     "iopub.status.idle": "2023-07-03T22:19:58.708463Z",
     "shell.execute_reply": "2023-07-03T22:19:58.707129Z"
    },
    "papermill": {
     "duration": 2.371019,
     "end_time": "2023-07-03T22:19:58.711589",
     "exception": false,
     "start_time": "2023-07-03T22:19:56.340570",
     "status": "completed"
    },
    "tags": []
   },
   "outputs": [],
   "source": [
    "import json\n",
    "import numba\n",
    "import numpy as np\n",
    "import pandas as pd\n",
    "\n",
    "from numba.pycc import CC"
   ]
  },
  {
   "cell_type": "code",
   "execution_count": 3,
   "id": "bf12f315",
   "metadata": {
    "execution": {
     "iopub.execute_input": "2023-07-03T22:19:58.740255Z",
     "iopub.status.busy": "2023-07-03T22:19:58.739866Z",
     "iopub.status.idle": "2023-07-03T22:19:58.744965Z",
     "shell.execute_reply": "2023-07-03T22:19:58.743853Z"
    },
    "papermill": {
     "duration": 0.022026,
     "end_time": "2023-07-03T22:19:58.747417",
     "exception": false,
     "start_time": "2023-07-03T22:19:58.725391",
     "status": "completed"
    },
    "tags": []
   },
   "outputs": [],
   "source": [
    "DATA_DIR = 'input/'"
   ]
  },
  {
   "cell_type": "code",
   "execution_count": 4,
   "id": "e7dc4969",
   "metadata": {
    "execution": {
     "iopub.execute_input": "2023-07-03T22:19:58.774846Z",
     "iopub.status.busy": "2023-07-03T22:19:58.774430Z",
     "iopub.status.idle": "2023-07-03T22:20:20.309487Z",
     "shell.execute_reply": "2023-07-03T22:20:20.308253Z"
    },
    "papermill": {
     "duration": 21.551853,
     "end_time": "2023-07-03T22:20:20.312113",
     "exception": false,
     "start_time": "2023-07-03T22:19:58.760260",
     "status": "completed"
    },
    "tags": []
   },
   "outputs": [
    {
     "name": "stdout",
     "output_type": "stream",
     "text": [
      "CPU times: user 9.36 s, sys: 4.76 s, total: 14.1 s\n",
      "Wall time: 3.94 s\n"
     ]
    }
   ],
   "source": [
    "%%time\n",
    "train_df = pd.read_parquet(DATA_DIR + 'train.parquet')\n",
    "train_labels_df = pd.read_parquet(DATA_DIR + 'train_labels.parquet')"
   ]
  },
  {
   "cell_type": "code",
   "execution_count": 5,
   "id": "71b1f269",
   "metadata": {},
   "outputs": [
    {
     "data": {
      "text/plain": [
       "0    tunic.historicalsociety.closet\n",
       "1    tunic.historicalsociety.closet\n",
       "2    tunic.historicalsociety.closet\n",
       "Name: room_fqid, dtype: object"
      ]
     },
     "execution_count": 5,
     "metadata": {},
     "output_type": "execute_result"
    }
   ],
   "source": [
    "train_df['room_fqid'].head(3)"
   ]
  },
  {
   "cell_type": "code",
   "execution_count": null,
   "id": "398a3510",
   "metadata": {},
   "outputs": [],
   "source": []
  },
  {
   "cell_type": "code",
   "execution_count": 6,
   "id": "2da44cd4",
   "metadata": {
    "execution": {
     "iopub.execute_input": "2023-07-03T22:20:20.341068Z",
     "iopub.status.busy": "2023-07-03T22:20:20.340186Z",
     "iopub.status.idle": "2023-07-03T22:23:04.486314Z",
     "shell.execute_reply": "2023-07-03T22:23:04.485110Z"
    },
    "papermill": {
     "duration": 164.175875,
     "end_time": "2023-07-03T22:23:04.501154",
     "exception": false,
     "start_time": "2023-07-03T22:20:20.325279",
     "status": "completed"
    },
    "tags": []
   },
   "outputs": [
    {
     "name": "stdout",
     "output_type": "stream",
     "text": [
      "CPU times: user 1min 4s, sys: 3.29 s, total: 1min 7s\n",
      "Wall time: 1min 7s\n"
     ]
    }
   ],
   "source": [
    "%%time\n",
    "train_df['room_fqid_building'] = train_df['room_fqid'].str.split('.').str[1]\n",
    "train_df['room_fqid_room'] = train_df['room_fqid'].str.split('.').str[2]"
   ]
  },
  {
   "cell_type": "code",
   "execution_count": 7,
   "id": "7575a430",
   "metadata": {},
   "outputs": [
    {
     "data": {
      "text/html": [
       "<div>\n",
       "<style scoped>\n",
       "    .dataframe tbody tr th:only-of-type {\n",
       "        vertical-align: middle;\n",
       "    }\n",
       "\n",
       "    .dataframe tbody tr th {\n",
       "        vertical-align: top;\n",
       "    }\n",
       "\n",
       "    .dataframe thead th {\n",
       "        text-align: right;\n",
       "    }\n",
       "</style>\n",
       "<table border=\"1\" class=\"dataframe\">\n",
       "  <thead>\n",
       "    <tr style=\"text-align: right;\">\n",
       "      <th></th>\n",
       "      <th>room_fqid_building</th>\n",
       "      <th>room_fqid_room</th>\n",
       "    </tr>\n",
       "  </thead>\n",
       "  <tbody>\n",
       "    <tr>\n",
       "      <th>0</th>\n",
       "      <td>historicalsociety</td>\n",
       "      <td>closet</td>\n",
       "    </tr>\n",
       "    <tr>\n",
       "      <th>1</th>\n",
       "      <td>historicalsociety</td>\n",
       "      <td>closet</td>\n",
       "    </tr>\n",
       "    <tr>\n",
       "      <th>2</th>\n",
       "      <td>historicalsociety</td>\n",
       "      <td>closet</td>\n",
       "    </tr>\n",
       "  </tbody>\n",
       "</table>\n",
       "</div>"
      ],
      "text/plain": [
       "  room_fqid_building room_fqid_room\n",
       "0  historicalsociety         closet\n",
       "1  historicalsociety         closet\n",
       "2  historicalsociety         closet"
      ]
     },
     "execution_count": 7,
     "metadata": {},
     "output_type": "execute_result"
    }
   ],
   "source": [
    "train_df[['room_fqid_building', 'room_fqid_room']].head(3)"
   ]
  },
  {
   "cell_type": "markdown",
   "id": "8b6ee627",
   "metadata": {
    "papermill": {
     "duration": 0.014991,
     "end_time": "2023-07-03T22:23:04.529888",
     "exception": false,
     "start_time": "2023-07-03T22:23:04.514897",
     "status": "completed"
    },
    "tags": []
   },
   "source": [
    "### Define Preprocessing Info"
   ]
  },
  {
   "cell_type": "code",
   "execution_count": 8,
   "id": "a1540453",
   "metadata": {
    "execution": {
     "iopub.execute_input": "2023-07-03T22:23:04.558425Z",
     "iopub.status.busy": "2023-07-03T22:23:04.558008Z",
     "iopub.status.idle": "2023-07-03T22:23:04.563084Z",
     "shell.execute_reply": "2023-07-03T22:23:04.561996Z"
    },
    "papermill": {
     "duration": 0.022058,
     "end_time": "2023-07-03T22:23:04.565555",
     "exception": false,
     "start_time": "2023-07-03T22:23:04.543497",
     "status": "completed"
    },
    "tags": []
   },
   "outputs": [],
   "source": [
    "level_group_map = {\n",
    "    '0-4': 0,\n",
    "    '5-12': 1,\n",
    "    '13-22': 2,\n",
    "}"
   ]
  },
  {
   "cell_type": "code",
   "execution_count": 6,
   "id": "e13a9f02",
   "metadata": {
    "execution": {
     "iopub.execute_input": "2023-07-03T22:23:04.593544Z",
     "iopub.status.busy": "2023-07-03T22:23:04.593090Z",
     "iopub.status.idle": "2023-07-03T22:23:04.599622Z",
     "shell.execute_reply": "2023-07-03T22:23:04.598461Z"
    },
    "papermill": {
     "duration": 0.023282,
     "end_time": "2023-07-03T22:23:04.601933",
     "exception": false,
     "start_time": "2023-07-03T22:23:04.578651",
     "status": "completed"
    },
    "tags": []
   },
   "outputs": [],
   "source": [
    "EVENT_NAMES = sorted([\n",
    "    'cutscene_click',\n",
    "    'person_click',\n",
    "    'navigate_click',\n",
    "    'observation_click',\n",
    "    'notification_click',\n",
    "    'object_click',\n",
    "    'object_hover',\n",
    "    'map_hover',\n",
    "    'map_click',\n",
    "    'checkpoint',\n",
    "    'notebook_click',\n",
    "])\n",
    "\n",
    "event_name_map = {en: i for i, en in enumerate(EVENT_NAMES)}"
   ]
  },
  {
   "cell_type": "code",
   "execution_count": 7,
   "id": "a185355e",
   "metadata": {},
   "outputs": [
    {
     "data": {
      "text/plain": [
       "'person_click'"
      ]
     },
     "execution_count": 7,
     "metadata": {},
     "output_type": "execute_result"
    }
   ],
   "source": [
    "EVENT_NAMES[10]"
   ]
  },
  {
   "cell_type": "code",
   "execution_count": 10,
   "id": "c21aca55",
   "metadata": {
    "execution": {
     "iopub.execute_input": "2023-07-03T22:23:04.630191Z",
     "iopub.status.busy": "2023-07-03T22:23:04.629591Z",
     "iopub.status.idle": "2023-07-03T22:23:04.634327Z",
     "shell.execute_reply": "2023-07-03T22:23:04.633295Z"
    },
    "papermill": {
     "duration": 0.021614,
     "end_time": "2023-07-03T22:23:04.636656",
     "exception": false,
     "start_time": "2023-07-03T22:23:04.615042",
     "status": "completed"
    },
    "tags": []
   },
   "outputs": [],
   "source": [
    "name_map = {\n",
    "    'basic': 0,\n",
    "    'undefined': 1,\n",
    "    'close': 2,\n",
    "    'open': 3,\n",
    "    'prev': 4,\n",
    "    'next': 5,\n",
    "}"
   ]
  },
  {
   "cell_type": "code",
   "execution_count": null,
   "id": "6a922f50",
   "metadata": {},
   "outputs": [],
   "source": []
  },
  {
   "cell_type": "code",
   "execution_count": 11,
   "id": "887667b4",
   "metadata": {
    "execution": {
     "iopub.execute_input": "2023-07-03T22:23:04.665047Z",
     "iopub.status.busy": "2023-07-03T22:23:04.664670Z",
     "iopub.status.idle": "2023-07-03T22:23:09.570134Z",
     "shell.execute_reply": "2023-07-03T22:23:09.568822Z"
    },
    "papermill": {
     "duration": 4.922915,
     "end_time": "2023-07-03T22:23:09.573036",
     "exception": false,
     "start_time": "2023-07-03T22:23:04.650121",
     "status": "completed"
    },
    "tags": []
   },
   "outputs": [],
   "source": [
    "# room_fqids = train_df['room_fqid'].unique().tolist()\n",
    "# room_fqids.sort()\n",
    "# room_fqids\n",
    "\n",
    "ROOM_FQIDS = sorted([\n",
    "    'tunic.capitol_0.hall',\n",
    "    'tunic.capitol_1.hall',\n",
    "    'tunic.capitol_2.hall',\n",
    "    'tunic.drycleaner.frontdesk',\n",
    "    'tunic.flaghouse.entry',\n",
    "    'tunic.historicalsociety.basement',\n",
    "    'tunic.historicalsociety.cage',\n",
    "    'tunic.historicalsociety.closet',\n",
    "    'tunic.historicalsociety.closet_dirty',\n",
    "    'tunic.historicalsociety.collection',\n",
    "    'tunic.historicalsociety.collection_flag',\n",
    "    'tunic.historicalsociety.entry',\n",
    "    'tunic.historicalsociety.frontdesk',\n",
    "    'tunic.historicalsociety.stacks',\n",
    "    'tunic.humanecology.frontdesk',\n",
    "    'tunic.kohlcenter.halloffame',\n",
    "    'tunic.library.frontdesk',\n",
    "    'tunic.library.microfiche',\n",
    "    'tunic.wildlife.center'\n",
    "])\n",
    "\n",
    "room_fqids_map = {b: i for i, b in enumerate(ROOM_FQIDS)}\n",
    "\n",
    "# room_fqids_map =>\n",
    "# {'tunic.capitol_0.hall': 0,\n",
    "#  'tunic.capitol_1.hall': 1,\n",
    "#  'tunic.capitol_2.hall': 2,\n",
    "#  'tunic.drycleaner.frontdesk': 3,\n",
    "#  'tunic.flaghouse.entry': 4,\n",
    "#  ...\n",
    "# }"
   ]
  },
  {
   "cell_type": "code",
   "execution_count": null,
   "id": "3718f4fa",
   "metadata": {},
   "outputs": [],
   "source": []
  },
  {
   "cell_type": "code",
   "execution_count": 12,
   "id": "1951463e",
   "metadata": {
    "execution": {
     "iopub.execute_input": "2023-07-03T22:23:09.603150Z",
     "iopub.status.busy": "2023-07-03T22:23:09.602737Z",
     "iopub.status.idle": "2023-07-03T22:23:09.609147Z",
     "shell.execute_reply": "2023-07-03T22:23:09.607835Z"
    },
    "papermill": {
     "duration": 0.024229,
     "end_time": "2023-07-03T22:23:09.611817",
     "exception": false,
     "start_time": "2023-07-03T22:23:09.587588",
     "status": "completed"
    },
    "tags": []
   },
   "outputs": [],
   "source": [
    "BUILDINGS = sorted([\n",
    "    'capitol_0',\n",
    "    'capitol_1',\n",
    "    'capitol_2',\n",
    "    'drycleaner',\n",
    "    'flaghouse',\n",
    "    'historicalsociety',\n",
    "    'humanecology',\n",
    "    'kohlcenter',\n",
    "    'library',\n",
    "    'wildlife',\n",
    "])\n",
    "\n",
    "building_map = {b: i for i, b in enumerate(BUILDINGS)}"
   ]
  },
  {
   "cell_type": "code",
   "execution_count": 13,
   "id": "d8db1be9",
   "metadata": {
    "execution": {
     "iopub.execute_input": "2023-07-03T22:23:09.639989Z",
     "iopub.status.busy": "2023-07-03T22:23:09.639571Z",
     "iopub.status.idle": "2023-07-03T22:23:09.645810Z",
     "shell.execute_reply": "2023-07-03T22:23:09.644608Z"
    },
    "papermill": {
     "duration": 0.023148,
     "end_time": "2023-07-03T22:23:09.648072",
     "exception": false,
     "start_time": "2023-07-03T22:23:09.624924",
     "status": "completed"
    },
    "tags": []
   },
   "outputs": [],
   "source": [
    "ROOMS = sorted([\n",
    "    'basement',\n",
    "    'cage',\n",
    "    'center',\n",
    "    'closet',\n",
    "    'closet_dirty',\n",
    "    'collection',\n",
    "    'collection_flag',\n",
    "    'entry',\n",
    "    'frontdesk',\n",
    "    'hall',\n",
    "    'halloffame',\n",
    "    'microfiche',\n",
    "    'stacks',\n",
    "])\n",
    "\n",
    "rooms_map = {r: i for i, r in enumerate(ROOMS)}"
   ]
  },
  {
   "cell_type": "code",
   "execution_count": 2,
   "id": "2811a82c",
   "metadata": {
    "execution": {
     "iopub.execute_input": "2023-07-03T22:23:09.676217Z",
     "iopub.status.busy": "2023-07-03T22:23:09.675800Z",
     "iopub.status.idle": "2023-07-03T22:23:09.689283Z",
     "shell.execute_reply": "2023-07-03T22:23:09.688131Z"
    },
    "papermill": {
     "duration": 0.030619,
     "end_time": "2023-07-03T22:23:09.691709",
     "exception": false,
     "start_time": "2023-07-03T22:23:09.661090",
     "status": "completed"
    },
    "tags": []
   },
   "outputs": [],
   "source": [
    "FQIDS = sorted([\n",
    "    '',\n",
    "    'archivist',\n",
    "    'archivist_glasses',\n",
    "    'block',\n",
    "    'block_0',\n",
    "    'block_1',\n",
    "    'block_badge',\n",
    "    'block_badge_2',\n",
    "    'block_magnify',\n",
    "    'block_nelson',\n",
    "    'block_tocollection',\n",
    "    'block_tomap1',\n",
    "    'block_tomap2',\n",
    "    'boss',\n",
    "    'businesscards',\n",
    "    'businesscards.card_0.next',\n",
    "    'businesscards.card_1.next',\n",
    "    'businesscards.card_bingo.bingo',\n",
    "    'businesscards.card_bingo.next',\n",
    "    'ch3start',\n",
    "    'chap1_finale',\n",
    "    'chap1_finale_c',\n",
    "    'chap2_finale_c',\n",
    "    'chap4_finale_c',\n",
    "    'coffee',\n",
    "    'colorbook',\n",
    "    'confrontation',\n",
    "    'crane_ranger',\n",
    "    'cs',\n",
    "    'directory',\n",
    "    'directory.closeup.archivist',\n",
    "    'door_block_clean',\n",
    "    'door_block_talk',\n",
    "    'doorblock',\n",
    "    'expert',\n",
    "    'flag_girl',\n",
    "    'fox',\n",
    "    'glasses',\n",
    "    'gramps',\n",
    "    'groupconvo',\n",
    "    'groupconvo_flag',\n",
    "    'intro',\n",
    "    'janitor',\n",
    "    'journals',\n",
    "    'journals.hub.topics',\n",
    "    'journals.pic_0.next',\n",
    "    'journals.pic_1.next',\n",
    "    'journals.pic_2.bingo',\n",
    "    'journals.pic_2.next',\n",
    "    'journals_flag',\n",
    "    'journals_flag.hub.topics',\n",
    "    'journals_flag.hub.topics_old',\n",
    "    'journals_flag.pic_0.bingo',\n",
    "    'journals_flag.pic_0.next',\n",
    "    'journals_flag.pic_0_old.next',\n",
    "    'journals_flag.pic_1.bingo',\n",
    "    'journals_flag.pic_1.next',\n",
    "    'journals_flag.pic_1_old.next',\n",
    "    'journals_flag.pic_2.bingo',\n",
    "    'journals_flag.pic_2.next',\n",
    "    'journals_flag.pic_2_old.next',\n",
    "    'key',\n",
    "    'lockeddoor',\n",
    "    'logbook',\n",
    "    'logbook.page.bingo',\n",
    "    'magnify',\n",
    "    'need_glasses',\n",
    "    'notebook',\n",
    "    'outtolunch',\n",
    "    'photo',\n",
    "    'plaque',\n",
    "    'plaque.face.date',\n",
    "    'reader',\n",
    "    'reader.paper0.next',\n",
    "    'reader.paper0.prev',\n",
    "    'reader.paper1.next',\n",
    "    'reader.paper1.prev',\n",
    "    'reader.paper2.bingo',\n",
    "    'reader.paper2.next',\n",
    "    'reader.paper2.prev',\n",
    "    'reader_flag',\n",
    "    'reader_flag.paper0.next',\n",
    "    'reader_flag.paper0.prev',\n",
    "    'reader_flag.paper1.next',\n",
    "    'reader_flag.paper1.prev',\n",
    "    'reader_flag.paper2.bingo',\n",
    "    'reader_flag.paper2.next',\n",
    "    'reader_flag.paper2.prev',\n",
    "    'remove_cup',\n",
    "    'report',\n",
    "    'retirement_letter',\n",
    "    'savedteddy',\n",
    "    'seescratches',\n",
    "    'teddy',\n",
    "    'tobasement',\n",
    "    'tocage',\n",
    "    'tocloset',\n",
    "    'tocloset_dirty',\n",
    "    'tocollection',\n",
    "    'tocollectionflag',\n",
    "    'toentry',\n",
    "    'tofrontdesk',\n",
    "    'togrampa',\n",
    "    'tohallway',\n",
    "    'tomap',\n",
    "    'tomicrofiche',\n",
    "    'tostacks',\n",
    "    'tracks',\n",
    "    'tracks.hub.deer',\n",
    "    'trigger_coffee',\n",
    "    'trigger_scarf',\n",
    "    'tunic',\n",
    "    'tunic.capitol_0',\n",
    "    'tunic.capitol_1',\n",
    "    'tunic.capitol_2',\n",
    "    'tunic.drycleaner',\n",
    "    'tunic.flaghouse',\n",
    "    'tunic.historicalsociety',\n",
    "    'tunic.hub.slip',\n",
    "    'tunic.humanecology',\n",
    "    'tunic.kohlcenter',\n",
    "    'tunic.library',\n",
    "    'tunic.wildlife',\n",
    "    'unlockdoor',\n",
    "    'wells',\n",
    "    'wellsbadge',\n",
    "    'what_happened',\n",
    "    'worker',\n",
    "    'chap2_finale',\n",
    "])\n",
    "\n",
    "fqids_map = {r: i for i, r in enumerate(FQIDS)}"
   ]
  },
  {
   "cell_type": "code",
   "execution_count": 5,
   "id": "c53081f5",
   "metadata": {},
   "outputs": [
    {
     "data": {
      "text/plain": [
       "128"
      ]
     },
     "execution_count": 5,
     "metadata": {},
     "output_type": "execute_result"
    }
   ],
   "source": [
    "fqids_map['worker']"
   ]
  },
  {
   "cell_type": "code",
   "execution_count": 15,
   "id": "68e835a4",
   "metadata": {},
   "outputs": [
    {
     "data": {
      "text/plain": [
       "0                        undefined\n",
       "1    Whatcha doing over there, Jo?\n",
       "2           Just talking to Teddy.\n",
       "Name: text, dtype: object"
      ]
     },
     "execution_count": 15,
     "metadata": {},
     "output_type": "execute_result"
    }
   ],
   "source": [
    "train_df['text'].head(3)"
   ]
  },
  {
   "cell_type": "code",
   "execution_count": 16,
   "id": "658bdad9",
   "metadata": {
    "execution": {
     "iopub.execute_input": "2023-07-03T22:23:09.720068Z",
     "iopub.status.busy": "2023-07-03T22:23:09.719667Z",
     "iopub.status.idle": "2023-07-03T22:23:14.406755Z",
     "shell.execute_reply": "2023-07-03T22:23:14.405722Z"
    },
    "papermill": {
     "duration": 4.704769,
     "end_time": "2023-07-03T22:23:14.409836",
     "exception": false,
     "start_time": "2023-07-03T22:23:09.705067",
     "status": "completed"
    },
    "tags": []
   },
   "outputs": [],
   "source": [
    "TEXT = sorted(train_df['text'].fillna(\"\").unique().tolist())\n",
    "\n",
    "text_map = {r: i for i, r in enumerate(TEXT)}"
   ]
  },
  {
   "cell_type": "code",
   "execution_count": 17,
   "id": "7abb196d",
   "metadata": {},
   "outputs": [
    {
     "data": {
      "text/plain": [
       "0                 tunic.historicalsociety.closet.intro\n",
       "1    tunic.historicalsociety.closet.gramps.intro_0_...\n",
       "2    tunic.historicalsociety.closet.gramps.intro_0_...\n",
       "Name: text_fqid, dtype: object"
      ]
     },
     "execution_count": 17,
     "metadata": {},
     "output_type": "execute_result"
    }
   ],
   "source": [
    "train_df['text_fqid'].head(3)"
   ]
  },
  {
   "cell_type": "code",
   "execution_count": 18,
   "id": "8e780cdb",
   "metadata": {},
   "outputs": [
    {
     "data": {
      "text/plain": [
       "'tunic.historicalsociety.closet.gramps.intro_0_cs_0'"
      ]
     },
     "execution_count": 18,
     "metadata": {},
     "output_type": "execute_result"
    }
   ],
   "source": [
    "train_df['text_fqid'][1]"
   ]
  },
  {
   "cell_type": "code",
   "execution_count": 19,
   "id": "e1c75cd0",
   "metadata": {
    "execution": {
     "iopub.execute_input": "2023-07-03T22:23:14.438089Z",
     "iopub.status.busy": "2023-07-03T22:23:14.437713Z",
     "iopub.status.idle": "2023-07-03T22:23:19.139320Z",
     "shell.execute_reply": "2023-07-03T22:23:19.138177Z"
    },
    "papermill": {
     "duration": 4.719215,
     "end_time": "2023-07-03T22:23:19.142057",
     "exception": false,
     "start_time": "2023-07-03T22:23:14.422842",
     "status": "completed"
    },
    "tags": []
   },
   "outputs": [],
   "source": [
    "TEXT_FQID = sorted(train_df['text_fqid'].fillna(\"\").unique().tolist())\n",
    "\n",
    "text_fqid_map = {r: i for i, r in enumerate(TEXT_FQID)}"
   ]
  },
  {
   "cell_type": "code",
   "execution_count": 20,
   "id": "f38cc569",
   "metadata": {},
   "outputs": [
    {
     "data": {
      "text/plain": [
       "127"
      ]
     },
     "execution_count": 20,
     "metadata": {},
     "output_type": "execute_result"
    }
   ],
   "source": [
    "len(text_fqid_map)"
   ]
  },
  {
   "cell_type": "code",
   "execution_count": 21,
   "id": "5d87bd97",
   "metadata": {
    "execution": {
     "iopub.execute_input": "2023-07-03T22:23:19.169911Z",
     "iopub.status.busy": "2023-07-03T22:23:19.169524Z",
     "iopub.status.idle": "2023-07-03T22:23:19.175980Z",
     "shell.execute_reply": "2023-07-03T22:23:19.174763Z"
    },
    "papermill": {
     "duration": 0.023403,
     "end_time": "2023-07-03T22:23:19.178482",
     "exception": false,
     "start_time": "2023-07-03T22:23:19.155079",
     "status": "completed"
    },
    "tags": []
   },
   "outputs": [],
   "source": [
    "preprocess_info = {\n",
    "    'EVENT_NAMES': EVENT_NAMES,\n",
    "    'event_name_map': event_name_map,\n",
    "    'name_map': name_map,\n",
    "    'level_group_map': level_group_map,\n",
    "    'BUILDINGS': BUILDINGS,\n",
    "    'building_map': building_map,\n",
    "    'ROOMS': ROOMS,\n",
    "    'rooms_map': rooms_map,\n",
    "    'FQIDS': FQIDS,\n",
    "    'fqids_map': fqids_map,\n",
    "    'TEXT': TEXT,\n",
    "    'text_map': text_map,\n",
    "    'TEXT_FQID': TEXT_FQID,\n",
    "    'text_fqid_map': text_fqid_map,\n",
    "    'ROOM_FQIDS': ROOM_FQIDS,\n",
    "    'room_fqids_map': room_fqids_map,\n",
    "}"
   ]
  },
  {
   "cell_type": "code",
   "execution_count": 22,
   "id": "2234e2d1",
   "metadata": {
    "execution": {
     "iopub.execute_input": "2023-07-03T22:23:19.206097Z",
     "iopub.status.busy": "2023-07-03T22:23:19.205696Z",
     "iopub.status.idle": "2023-07-03T22:23:19.211774Z",
     "shell.execute_reply": "2023-07-03T22:23:19.210943Z"
    },
    "papermill": {
     "duration": 0.022754,
     "end_time": "2023-07-03T22:23:19.214093",
     "exception": false,
     "start_time": "2023-07-03T22:23:19.191339",
     "status": "completed"
    },
    "tags": []
   },
   "outputs": [],
   "source": [
    "with open('preprocess_info.json', \"w\") as f:\n",
    "    f.write(json.dumps(preprocess_info))"
   ]
  },
  {
   "cell_type": "markdown",
   "id": "ddb00f2f",
   "metadata": {
    "papermill": {
     "duration": 0.012699,
     "end_time": "2023-07-03T22:23:19.239826",
     "exception": false,
     "start_time": "2023-07-03T22:23:19.227127",
     "status": "completed"
    },
    "tags": []
   },
   "source": [
    "### Create Preprocessing Functions"
   ]
  },
  {
   "cell_type": "code",
   "execution_count": 23,
   "id": "1775ed64",
   "metadata": {},
   "outputs": [],
   "source": [
    "# while Numba’s main use case is Just-in-Time compilation, it also provides a facility for Ahead-of-Time compilation (AOT).\n"
   ]
  },
  {
   "cell_type": "code",
   "execution_count": 24,
   "id": "b7768416",
   "metadata": {
    "execution": {
     "iopub.execute_input": "2023-07-03T22:23:19.267833Z",
     "iopub.status.busy": "2023-07-03T22:23:19.267458Z",
     "iopub.status.idle": "2023-07-03T22:23:19.915931Z",
     "shell.execute_reply": "2023-07-03T22:23:19.914633Z"
    },
    "papermill": {
     "duration": 0.66593,
     "end_time": "2023-07-03T22:23:19.918555",
     "exception": false,
     "start_time": "2023-07-03T22:23:19.252625",
     "status": "completed"
    },
    "tags": []
   },
   "outputs": [],
   "source": [
    "# generate an extension module named JoWilder_preprocess_functions. Depending on your platform, the actual filename may be - \n",
    "# - JoWilder_preprocess_functions.so, JoWilder_preprocess_functions.pyd, JoWilder_preprocess_functions.cpython-34m.so, etc.\n",
    "cc = CC('JoWilder_preprocess_functions')"
   ]
  },
  {
   "cell_type": "code",
   "execution_count": 25,
   "id": "1781a9ea",
   "metadata": {
    "execution": {
     "iopub.execute_input": "2023-07-03T22:23:19.947139Z",
     "iopub.status.busy": "2023-07-03T22:23:19.946718Z",
     "iopub.status.idle": "2023-07-03T22:23:20.044136Z",
     "shell.execute_reply": "2023-07-03T22:23:20.043105Z"
    },
    "papermill": {
     "duration": 0.114648,
     "end_time": "2023-07-03T22:23:20.046838",
     "exception": false,
     "start_time": "2023-07-03T22:23:19.932190",
     "status": "completed"
    },
    "tags": []
   },
   "outputs": [],
   "source": [
    "# @cc.export(..) => compiling code ahead of time.\n",
    "# generated module has function \"session_id_parser\" operates on 64-bit integers (i8).\n",
    "# Tuple((i8, i8, i8, i8))(i8) => (i8) refers argument and (i8, i8, i8, i8) refers returns.\n",
    "\n",
    "# @numba.jit(...) => decorator, you can mark a function for optimization by Numba’s JIT compiler. \n",
    "# nopython => enable numba compilation mode \"nopython\".\n",
    "# numba will release the GIL when entering \"native code\" from \"python code\" if you passed nogil=True.\n",
    "# parallel => enables automatic parallelization (and related optimizations) for those operations in the function known to have parallel semantics.\n",
    "\n",
    "@cc.export('session_id_parser', 'Tuple((i8, i8, i8, i8))(i8)')\n",
    "@numba.jit(nopython=True, nogil=True, parallel=False)\n",
    "def session_id_parser(session_id):\n",
    "    '''\n",
    "    parse session_id to get year, month, weekday and hour.\n",
    "    '''\n",
    "    temp1 = session_id//100\n",
    "    session_rnd = session_id - (temp1*100)\n",
    "    \n",
    "    temp2 = temp1//1000\n",
    "    session_ms = temp1 - (temp2*1000)\n",
    "    \n",
    "    temp1 = temp2//100\n",
    "    session_second = temp2 - (temp1*100)\n",
    "    \n",
    "    temp2 = temp1//100\n",
    "    session_minute = temp1 - (temp2*100)\n",
    "    \n",
    "    temp1 = temp2//100\n",
    "    session_hour = temp2 - (temp1*100)\n",
    "    \n",
    "    temp2 = temp1//100\n",
    "    session_weekday = temp1 - (temp2*100)\n",
    "    \n",
    "    temp1 = temp2//100\n",
    "    session_month = temp2 - (temp1*100) + 1\n",
    "    \n",
    "    temp2 = temp1//100\n",
    "    session_year = temp1 - (temp2*100)\n",
    "    \n",
    "    return session_year, session_month, session_weekday, session_hour"
   ]
  },
  {
   "cell_type": "code",
   "execution_count": 26,
   "id": "09a02fc4",
   "metadata": {
    "execution": {
     "iopub.execute_input": "2023-07-03T22:23:20.076122Z",
     "iopub.status.busy": "2023-07-03T22:23:20.075243Z",
     "iopub.status.idle": "2023-07-03T22:23:20.082894Z",
     "shell.execute_reply": "2023-07-03T22:23:20.081632Z"
    },
    "papermill": {
     "duration": 0.025656,
     "end_time": "2023-07-03T22:23:20.085569",
     "exception": false,
     "start_time": "2023-07-03T22:23:20.059913",
     "status": "completed"
    },
    "tags": []
   },
   "outputs": [],
   "source": [
    "@numba.jit(nopython=True, nogil=True, error_model='numpy', parallel=False)\n",
    "def get_splits(a):\n",
    "    '''\n",
    "    Leaving the first element, match every element of array with the previous one and return True/False.\n",
    "    To this True/False list, append True at first and last.\n",
    "    Return indices of True places.\n",
    "    \n",
    "    Usage e.g.,  to split unique \"session id\" from the repetitive \"session ids\".\n",
    "    '''\n",
    "    # a[1:] != a[:-1] => \n",
    "    # array([ True, False,  True, False, False, False, False, False, False,\n",
    "    #         ...\n",
    "    #        False, False, False, False, False, False,  True,  True, False,\n",
    "    #        False, False])\n",
    "    \n",
    "    # (a[1:] != a[:-1]).shape => (128,)\n",
    "    \n",
    "    m = np.concatenate((np.array([True]), a[1:] != a[:-1], np.array([True])))\n",
    "    #m = np.flatnonzero(m)\n",
    "    m = np.where(m)[0]\n",
    "    # m => \n",
    "    # array([  0,   1,   3,  19,  30,  35,  36,  38,  42, ..., 94, 124, 125, 129])\n",
    "    \n",
    "    # m.shape => (22,)\n",
    "    \n",
    "    return m"
   ]
  },
  {
   "cell_type": "code",
   "execution_count": 27,
   "id": "0e2f1274",
   "metadata": {
    "execution": {
     "iopub.execute_input": "2023-07-03T22:23:20.115376Z",
     "iopub.status.busy": "2023-07-03T22:23:20.114287Z",
     "iopub.status.idle": "2023-07-03T22:23:20.129118Z",
     "shell.execute_reply": "2023-07-03T22:23:20.127839Z"
    },
    "papermill": {
     "duration": 0.032727,
     "end_time": "2023-07-03T22:23:20.131913",
     "exception": false,
     "start_time": "2023-07-03T22:23:20.099186",
     "status": "completed"
    },
    "tags": []
   },
   "outputs": [],
   "source": [
    "def generate_lookup_mapper_function(lookup, function_name, default_value_str, output_type_str):\n",
    "    '''\n",
    "    generates a function to map a list of objects to numbers using unicode transformation of object's characters. \n",
    "    '''\n",
    "    \n",
    "    lookup_keys_list = sorted(list(lookup.keys()))\n",
    "    lookup_keys = np.array(lookup_keys_list)\n",
    "    # lookup_keys => array(['', 'archivist', 'archivist_glasses', 'block', ..., 'what_happened', 'worker'], dtype='<U30')\n",
    "    # <U30 => string with \"less than\" or \"equal to\" 30 unicode characters.\n",
    "    \n",
    "    # len(lookup_keys) => 129\n",
    "    # lookup_keys.view(np.uint32) => converts each character in each string to their unicode value.\n",
    "    # len(lookup_keys.view(np.uint32)) => 3870 (129*30) (30 is the length of string with maximum characters)\n",
    "    # string whose characters length is not 30 are padded with zeros.\n",
    "    # lookup_keys.view(np.uint32) => array([0, 0, 0, ..., 0, 0, 0], dtype=uint32)\n",
    "    # np.unique(lookup_keys.view(np.uint32)) => array([  0,  46,  48,  49,  ..., 118, 119, 120, 121], dtype=uint32) \n",
    "    \n",
    "    \n",
    "    # e.g., =>\n",
    "    # z => array(['', 'archivist', 'archivist', 'block'], dtype='<U9')\n",
    "    # z = z.view(np.uint32)\n",
    "    # z =>\n",
    "    # array([  0,   0,   0,   0,   0,   0,   0,   0,   0,  97, 114,  99, 104,\n",
    "    #        105, 118, 105, 115, 116,  97, 114,  99, 104, 105, 118, 105, 115,\n",
    "    #        116,  98, 108, 111,  99, 107,   0,   0,   0,   0], dtype=uint32)    \n",
    "    \n",
    "    \n",
    "    lookup_keys = lookup_keys.view(np.uint32).reshape((lookup_keys.shape[0], -1))\n",
    "    # lookup_keys.shape => (129, 30)\n",
    "    \n",
    "    def process_split(lookup_keys, i, s, e, num_indents, src):\n",
    "    \n",
    "        splits = get_splits(lookup_keys[s:e, i]) + s\n",
    "\n",
    "        # type(z) => numpy.ndarray\n",
    "        # splits.shape => (22,0)        \n",
    "        \n",
    "        num_splits = splits.shape[0] - 1\n",
    "\n",
    "        if num_splits == 1:\n",
    "            process_split(lookup_keys, i+1, s, e, num_indents, src)\n",
    "        else:\n",
    "            for j in range(num_splits):\n",
    "                s = splits[j]\n",
    "                # s => 0\n",
    "                e = splits[j+1]\n",
    "                # e => 1\n",
    "\n",
    "                num_cands = e - s\n",
    "\n",
    "                #print(num_splits, num_cands)\n",
    "\n",
    "                v = lookup_keys[s, i]\n",
    "                # v => 0\n",
    "\n",
    "                intend = \"  \" * num_indents\n",
    "\n",
    "                #print(lookup_keys[s:e])\n",
    "\n",
    "                if j == 0:\n",
    "                    src.append(f\"{intend}if v[{i}] == {v}:\")\n",
    "                else:\n",
    "                    src.append(f\"{intend}elif v[{i}] == {v}:\")\n",
    "\n",
    "                if num_cands == 1:\n",
    "                    \n",
    "                    output_value = lookup[lookup_keys_list[s]]\n",
    "                    \n",
    "                    #src.append(f\"{intend}  return {s}\")\n",
    "                    src.append(f\"{intend}  out[i] = {output_value}\")\n",
    "                    \n",
    "                    # src => [... , '    if v[0] == 0:', '      out[i] = 0']\n",
    "                else:\n",
    "                    process_split(lookup_keys, i+1, s, e, num_indents+1, src)\n",
    "                    \n",
    "            # src =>\n",
    "            # ['    if v[0] == 0:', # v[0] is the unicode of 0th character of a string from fqids_map keys.\n",
    "            #  '      out[i] = 0', # 0 is the value of key present in fqids_map dict.\n",
    "            #  '    elif v[0] == 97:',\n",
    "            #  '      if v[9] == 0:',\n",
    "            #  '        out[i] = 1',\n",
    "            #  '      elif v[9] == 95:',\n",
    "            #  '        out[i] = 2',\n",
    "            #  ...\n",
    "            #  '        elif v[5] == 98:',\n",
    "            #  '          out[i] = 126',\n",
    "            #  '      elif v[1] == 104:',\n",
    "            #  '        out[i] = 127',\n",
    "            #  '      elif v[1] == 111:',\n",
    "            #  '        out[i] = 128']            \n",
    "        return src\n",
    "\n",
    "    cc_type = {'np.int64':'i8'}[output_type_str]\n",
    "        \n",
    "    src = [f\"\"\"\n",
    "@cc.export('{function_name}', '{cc_type}[::1](u4[:, ::1])')\n",
    "@numba.jit(nopython=True, nogil=True)\n",
    "def {function_name}(data):\n",
    "\n",
    "  n = data.shape[0]\n",
    "  out = np.full(n, {default_value_str}, dtype={output_type_str})\n",
    "\n",
    "  for i in range(n):\n",
    "\n",
    "    v = data[i]\n",
    "\"\"\"]\n",
    "    \n",
    "    # data =>  is a 2D NumPy array with all elements ((u4[:, ::1])) and with unsigned 32-bit integers (u4).\n",
    "    # out => return is a 1D NumPy array with all elements (i8[::1]) and with 64-bit integers (i8).\n",
    "    # u4 => 32-bit unsigned integer.\n",
    "    # src => \n",
    "    # @cc.export('fqids_to_number', 'i8[::1](u4[:, ::1])')\n",
    "    # @numba.jit(nopython=True, nogil=True)\n",
    "    # def fqids_to_number(data):\n",
    "\n",
    "    #   n = data.shape[0]\n",
    "    #   out = np.full(n, 129, dtype=np.int64) # return a new array of shape as 'n' and filled with 129.\n",
    "\n",
    "    #   for i in range(n):\n",
    "\n",
    "    #     v = data[i]\n",
    "    \n",
    "    \n",
    "    src = process_split(lookup_keys, 0, 0, lookup_keys.shape[0], 2, src)\n",
    "\n",
    "    src.append(\"  return out\")\n",
    "    \n",
    "    # joining the segments of function src.\n",
    "    src = \"\\n\".join(src)\n",
    "    \n",
    "    return src"
   ]
  },
  {
   "cell_type": "code",
   "execution_count": null,
   "id": "aa88cbf7",
   "metadata": {},
   "outputs": [],
   "source": []
  },
  {
   "cell_type": "code",
   "execution_count": 28,
   "id": "e8b329a8",
   "metadata": {
    "execution": {
     "iopub.execute_input": "2023-07-03T22:23:20.160428Z",
     "iopub.status.busy": "2023-07-03T22:23:20.159221Z",
     "iopub.status.idle": "2023-07-03T22:23:22.540908Z",
     "shell.execute_reply": "2023-07-03T22:23:22.539972Z"
    },
    "papermill": {
     "duration": 2.398791,
     "end_time": "2023-07-03T22:23:22.543623",
     "exception": false,
     "start_time": "2023-07-03T22:23:20.144832",
     "status": "completed"
    },
    "tags": []
   },
   "outputs": [
    {
     "name": "stdout",
     "output_type": "stream",
     "text": [
      "fqids_map 129\n",
      "room_fqids_map 19\n",
      "name_map 6\n",
      "event_name_map 11\n",
      "text_map 598\n",
      "text_fqid_map 127\n",
      "rooms_map 13\n",
      "building_map 10\n"
     ]
    }
   ],
   "source": [
    "for lookup_name in ['fqids', 'room_fqids', 'name', 'event_name', 'text', 'text_fqid', 'rooms', 'building']:\n",
    "\n",
    "    # preprocess_info['fqids_map'].values() => \n",
    "    # dict_values([0, 1, 2, 3, ..., 124, 125, 126, 127, 128])\n",
    "    \n",
    "    max_value = max(preprocess_info[lookup_name + '_map'].values()) + 1\n",
    "\n",
    "    print(lookup_name + '_map', max_value)\n",
    "    \n",
    "    # preprocess_info['fqids_map'] =>\n",
    "    # {'': 0,\n",
    "    #  'archivist': 1,\n",
    "    #  'archivist_glasses': 2,\n",
    "    #  ...\n",
    "    #  'wellsbadge': 126,\n",
    "    #  'what_happened': 127,\n",
    "    #  'worker': 128}\n",
    "\n",
    "    func_src = generate_lookup_mapper_function(\n",
    "        preprocess_info[lookup_name + '_map'],\n",
    "        function_name=f'{lookup_name}_to_number',\n",
    "        default_value_str=str(max_value),\n",
    "        output_type_str='np.int64', # 'np.uint8' if max_value < 255 else 'np.uint32',\n",
    "    )    \n",
    "    \n",
    "    # func_src => purpose of this function is to map certain patterns in the input array to corresponding numeric -\n",
    "    # - values in the output array.\n",
    "    #print(func_src)\n",
    "    # exec => dynamic execution of Python code. \n",
    "    exec(func_src) # my_ comment\n",
    "    #break # my_ break"
   ]
  },
  {
   "cell_type": "code",
   "execution_count": null,
   "id": "d4e7bc76",
   "metadata": {},
   "outputs": [],
   "source": []
  },
  {
   "cell_type": "code",
   "execution_count": 29,
   "id": "26162eb1",
   "metadata": {},
   "outputs": [],
   "source": [
    "# complete function is availabe in the file \"utils/func_src.py\".\n",
    "\n",
    "# func_src  =>\n",
    "# @cc.export('fqids_to_number', 'i8[::1](u4[:, ::1])')\n",
    "# @numba.jit(nopython=True, nogil=True)\n",
    "# def fqids_to_number(data):\n",
    "\n",
    "#   n = data.shape[0]\n",
    "#   out = np.full(n, 129, dtype=np.int64) # return a new array of shape as 'n' and filled with 129.\n",
    "\n",
    "#   for i in range(n):\n",
    "\n",
    "#     v = data[i]\n",
    "\n",
    "#     if v[0] == 0: # v[0] is the unicode of 0th character of a string from fqids_map keys.\n",
    "#       out[i] = 0 # 0 is the value of key present in fqids_map dict.\n",
    "#     elif v[0] == 97:\n",
    "#       if v[9] == 0:\n",
    "#         out[i] = 1\n",
    "#       elif v[9] == 95:\n",
    "#         out[i] = 2\n",
    "#     elif v[0] == 98:\n",
    "#     ...\n",
    "#     elif v[0] == 119:\n",
    "#       if v[1] == 101:\n",
    "#         if v[5] == 0:\n",
    "#           out[i] = 125\n",
    "#         elif v[5] == 98:\n",
    "#           out[i] = 126\n",
    "#       elif v[1] == 104:\n",
    "#         out[i] = 127\n",
    "#       elif v[1] == 111:\n",
    "#         out[i] = 128\n",
    "#   return out"
   ]
  },
  {
   "cell_type": "code",
   "execution_count": null,
   "id": "900a3452",
   "metadata": {},
   "outputs": [],
   "source": []
  },
  {
   "cell_type": "code",
   "execution_count": 30,
   "id": "8a217c71",
   "metadata": {
    "execution": {
     "iopub.execute_input": "2023-07-03T22:23:22.572486Z",
     "iopub.status.busy": "2023-07-03T22:23:22.572011Z",
     "iopub.status.idle": "2023-07-03T22:23:22.584309Z",
     "shell.execute_reply": "2023-07-03T22:23:22.582974Z"
    },
    "papermill": {
     "duration": 0.030016,
     "end_time": "2023-07-03T22:23:22.587048",
     "exception": false,
     "start_time": "2023-07-03T22:23:22.557032",
     "status": "completed"
    },
    "tags": []
   },
   "outputs": [],
   "source": [
    "@cc.export('get_building_and_room', 'Tuple((i8[::1], i8[::1]))(u4[:, ::1])')\n",
    "@numba.jit(nopython=True, nogil=True, parallel=False)\n",
    "def get_building_and_room(room_fqid):\n",
    "    \n",
    "    n, max_chars = room_fqid.shape\n",
    "    \n",
    "    out_buildings = np.empty(n, dtype=np.int64)\n",
    "    out_room = np.empty(n, dtype=np.int64)\n",
    "    \n",
    "    for i in range(n):\n",
    "        \n",
    "        rf = room_fqid[i]\n",
    "        \n",
    "        e = max_chars\n",
    "        #room_char_i = 0\n",
    "        #room_found = False\n",
    "        for j in range(6, max_chars):\n",
    "\n",
    "            if rf[j] == 46:\n",
    "                e = j\n",
    "                break\n",
    "\n",
    "        b = building_to_number(room_fqid[i:(i+1), 6:e])\n",
    "        r = rooms_to_number(room_fqid[i:(i+1), (e+1):])\n",
    "        \n",
    "        out_buildings[i:i+1] = b\n",
    "        out_room[i:i+1] = r\n",
    "        \n",
    "    return out_buildings, out_room"
   ]
  },
  {
   "cell_type": "code",
   "execution_count": 31,
   "id": "2d993450",
   "metadata": {
    "execution": {
     "iopub.execute_input": "2023-07-03T22:23:22.615961Z",
     "iopub.status.busy": "2023-07-03T22:23:22.615573Z",
     "iopub.status.idle": "2023-07-03T22:23:22.623935Z",
     "shell.execute_reply": "2023-07-03T22:23:22.622612Z"
    },
    "papermill": {
     "duration": 0.025835,
     "end_time": "2023-07-03T22:23:22.626548",
     "exception": false,
     "start_time": "2023-07-03T22:23:22.600713",
     "status": "completed"
    },
    "tags": []
   },
   "outputs": [],
   "source": [
    "@cc.export('calculate_text_length', 'f8[::1](u4[:, ::1])')\n",
    "@numba.jit(nopython=True, nogil=True)\n",
    "def calculate_text_length(data):\n",
    "    \n",
    "    n, max_chars = data.shape\n",
    "    \n",
    "    out = np.full(n, max_chars, dtype=np.float64)\n",
    "    \n",
    "    for i in range(n):\n",
    "        d = data[i]\n",
    "        for j in range(max_chars):\n",
    "            if d[j] == 0:\n",
    "                if j != 0:\n",
    "                    out[i] = j\n",
    "                else:\n",
    "                   out[i] = np.nan\n",
    "                break\n",
    "                \n",
    "    return out"
   ]
  },
  {
   "cell_type": "code",
   "execution_count": 32,
   "id": "ab0df5b3",
   "metadata": {
    "execution": {
     "iopub.execute_input": "2023-07-03T22:23:22.654888Z",
     "iopub.status.busy": "2023-07-03T22:23:22.654473Z",
     "iopub.status.idle": "2023-07-03T22:24:36.231050Z",
     "shell.execute_reply": "2023-07-03T22:24:36.229787Z"
    },
    "papermill": {
     "duration": 73.59407,
     "end_time": "2023-07-03T22:24:36.233872",
     "exception": false,
     "start_time": "2023-07-03T22:23:22.639802",
     "status": "completed"
    },
    "tags": []
   },
   "outputs": [],
   "source": [
    "cc.verbose = False\n",
    "cc.compile()"
   ]
  },
  {
   "cell_type": "code",
   "execution_count": null,
   "id": "778ff15f",
   "metadata": {},
   "outputs": [],
   "source": []
  },
  {
   "cell_type": "markdown",
   "id": "2ad4b39c",
   "metadata": {
    "papermill": {
     "duration": 0.012712,
     "end_time": "2023-07-03T22:24:36.260251",
     "exception": false,
     "start_time": "2023-07-03T22:24:36.247539",
     "status": "completed"
    },
    "tags": []
   },
   "source": [
    "### Perform Preprocessing"
   ]
  },
  {
   "cell_type": "code",
   "execution_count": 133,
   "id": "edc7b441",
   "metadata": {},
   "outputs": [
    {
     "data": {
      "text/plain": [
       "0    20090312431273200\n",
       "1    20090312431273200\n",
       "2    20090312431273200\n",
       "Name: session_id, dtype: int64"
      ]
     },
     "execution_count": 133,
     "metadata": {},
     "output_type": "execute_result"
    }
   ],
   "source": [
    "train_df['session_id'].head(3)"
   ]
  },
  {
   "cell_type": "code",
   "execution_count": 136,
   "id": "5ab846bb",
   "metadata": {},
   "outputs": [
    {
     "data": {
      "text/plain": [
       "17"
      ]
     },
     "execution_count": 136,
     "metadata": {},
     "output_type": "execute_result"
    }
   ],
   "source": [
    "len(train_df['session_id'][0].astype(str))"
   ]
  },
  {
   "cell_type": "code",
   "execution_count": 119,
   "id": "b45fb272",
   "metadata": {
    "execution": {
     "iopub.execute_input": "2023-07-03T22:24:36.290249Z",
     "iopub.status.busy": "2023-07-03T22:24:36.289484Z",
     "iopub.status.idle": "2023-07-03T22:27:06.421270Z",
     "shell.execute_reply": "2023-07-03T22:27:06.419740Z"
    },
    "papermill": {
     "duration": 150.149615,
     "end_time": "2023-07-03T22:27:06.424470",
     "exception": false,
     "start_time": "2023-07-03T22:24:36.274855",
     "status": "completed"
    },
    "tags": []
   },
   "outputs": [],
   "source": [
    "train_df['session_id_str'] = train_df['session_id'].astype(str) # .str[:4].astype(int)\n",
    "\n",
    "train_df[\"session_year\"] = train_df[\"session_id_str\"].str[:2].astype(np.uint8)\n",
    "train_df[\"session_month\"] = train_df[\"session_id_str\"].str[2:4].astype(np.uint8) + 1\n",
    "train_df[\"session_weekday\"] = train_df[\"session_id_str\"].str[4:6].astype(np.uint8)\n",
    "train_df[\"session_hour\"] = train_df[\"session_id_str\"].str[6:8].astype(np.uint8)\n",
    "train_df[\"session_minute\"] = train_df[\"session_id_str\"].str[8:10].astype(np.uint8)\n",
    "train_df[\"session_second\"] = train_df[\"session_id_str\"].str[10:12].astype(np.uint8)\n",
    "train_df[\"session_ms\"] = train_df[\"session_id_str\"].str[12:15].astype(np.uint16)\n",
    "train_df[\"session_rnd\"] = train_df[\"session_id_str\"].str[15:17].astype(np.uint8)"
   ]
  },
  {
   "cell_type": "code",
   "execution_count": 120,
   "id": "e4ebb067",
   "metadata": {
    "execution": {
     "iopub.execute_input": "2023-07-03T22:27:06.453639Z",
     "iopub.status.busy": "2023-07-03T22:27:06.453185Z",
     "iopub.status.idle": "2023-07-03T22:27:09.011266Z",
     "shell.execute_reply": "2023-07-03T22:27:09.009936Z"
    },
    "papermill": {
     "duration": 2.575765,
     "end_time": "2023-07-03T22:27:09.014070",
     "exception": false,
     "start_time": "2023-07-03T22:27:06.438305",
     "status": "completed"
    },
    "tags": []
   },
   "outputs": [],
   "source": [
    "train_labels_df['session_id_base'] = train_labels_df['session_id'].str.split(\"_\").str[0]\n",
    "train_labels_df['session_id_question'] = train_labels_df['session_id'].str.split(\"_\").str[1].str[1:].astype(int)\n",
    "train_labels_df[\"session_year\"] = train_labels_df[\"session_id_base\"].str[:2].astype(np.uint8)\n",
    "train_labels_df[\"session_month\"] = train_labels_df[\"session_id_base\"].str[2:4].astype(np.uint8) + 1\n",
    "train_labels_df[\"session_weekday\"] = train_labels_df[\"session_id_base\"].str[4:6].astype(np.uint8)"
   ]
  },
  {
   "cell_type": "code",
   "execution_count": 121,
   "id": "a03a8d8c",
   "metadata": {
    "execution": {
     "iopub.execute_input": "2023-07-03T22:27:09.042891Z",
     "iopub.status.busy": "2023-07-03T22:27:09.042493Z",
     "iopub.status.idle": "2023-07-03T22:27:11.985475Z",
     "shell.execute_reply": "2023-07-03T22:27:11.984475Z"
    },
    "papermill": {
     "duration": 2.9609,
     "end_time": "2023-07-03T22:27:11.988432",
     "exception": false,
     "start_time": "2023-07-03T22:27:09.027532",
     "status": "completed"
    },
    "tags": []
   },
   "outputs": [],
   "source": [
    "train_df['numerical_level_group'] = train_df['level_group'].map(level_group_map)"
   ]
  },
  {
   "cell_type": "code",
   "execution_count": 122,
   "id": "85bf6d4e",
   "metadata": {
    "execution": {
     "iopub.execute_input": "2023-07-03T22:27:12.022467Z",
     "iopub.status.busy": "2023-07-03T22:27:12.020042Z",
     "iopub.status.idle": "2023-07-03T22:27:15.513891Z",
     "shell.execute_reply": "2023-07-03T22:27:15.512553Z"
    },
    "papermill": {
     "duration": 3.513875,
     "end_time": "2023-07-03T22:27:15.516460",
     "exception": false,
     "start_time": "2023-07-03T22:27:12.002585",
     "status": "completed"
    },
    "tags": []
   },
   "outputs": [
    {
     "name": "stdout",
     "output_type": "stream",
     "text": [
      "CPU times: user 927 ms, sys: 40.2 ms, total: 967 ms\n",
      "Wall time: 965 ms\n"
     ]
    }
   ],
   "source": [
    "%%time\n",
    "# temp = train_df['event_name'].values.astype('<U18')\n",
    "# train_df['numerical_event_name'] = JoWilder_preprocess_functions.event_name_to_number(temp.view(np.uint32).reshape((temp.shape[0], -1)))\n",
    "\n",
    "train_df['numerical_event_name'] = train_df['event_name'].map(event_name_map)"
   ]
  },
  {
   "cell_type": "code",
   "execution_count": 123,
   "id": "d0c77775",
   "metadata": {
    "execution": {
     "iopub.execute_input": "2023-07-03T22:27:15.544582Z",
     "iopub.status.busy": "2023-07-03T22:27:15.544175Z",
     "iopub.status.idle": "2023-07-03T22:27:18.622667Z",
     "shell.execute_reply": "2023-07-03T22:27:18.621380Z"
    },
    "papermill": {
     "duration": 3.095606,
     "end_time": "2023-07-03T22:27:18.625187",
     "exception": false,
     "start_time": "2023-07-03T22:27:15.529581",
     "status": "completed"
    },
    "tags": []
   },
   "outputs": [
    {
     "name": "stdout",
     "output_type": "stream",
     "text": [
      "CPU times: user 846 ms, sys: 36.1 ms, total: 882 ms\n",
      "Wall time: 878 ms\n"
     ]
    }
   ],
   "source": [
    "%%time\n",
    "# temp = train_df['name'].values.astype('<U9')\n",
    "# train_df['numerical_name'] = JoWilder_preprocess_functions.name_to_number(temp.view(np.uint32).reshape((temp.shape[0], -1)))\n",
    "\n",
    "train_df['numerical_name'] = train_df['name'].map(name_map)"
   ]
  },
  {
   "cell_type": "code",
   "execution_count": 124,
   "id": "cc1e3b9c",
   "metadata": {
    "execution": {
     "iopub.execute_input": "2023-07-03T22:27:18.653924Z",
     "iopub.status.busy": "2023-07-03T22:27:18.653525Z",
     "iopub.status.idle": "2023-07-03T22:27:22.250552Z",
     "shell.execute_reply": "2023-07-03T22:27:22.249447Z"
    },
    "papermill": {
     "duration": 3.614708,
     "end_time": "2023-07-03T22:27:22.253334",
     "exception": false,
     "start_time": "2023-07-03T22:27:18.638626",
     "status": "completed"
    },
    "tags": []
   },
   "outputs": [],
   "source": [
    "train_df['numerical_room_fqid'] = train_df['room_fqid'].map(room_fqids_map)"
   ]
  },
  {
   "cell_type": "code",
   "execution_count": 125,
   "id": "205917a9",
   "metadata": {
    "execution": {
     "iopub.execute_input": "2023-07-03T22:27:22.281895Z",
     "iopub.status.busy": "2023-07-03T22:27:22.281515Z",
     "iopub.status.idle": "2023-07-03T22:27:27.044118Z",
     "shell.execute_reply": "2023-07-03T22:27:27.043083Z"
    },
    "papermill": {
     "duration": 4.780281,
     "end_time": "2023-07-03T22:27:27.047054",
     "exception": false,
     "start_time": "2023-07-03T22:27:22.266773",
     "status": "completed"
    },
    "tags": []
   },
   "outputs": [],
   "source": [
    "train_df['numerical_room_fqid_building'] = train_df['room_fqid_building'].map(building_map)"
   ]
  },
  {
   "cell_type": "code",
   "execution_count": 126,
   "id": "06f48fcb",
   "metadata": {
    "execution": {
     "iopub.execute_input": "2023-07-03T22:27:27.076022Z",
     "iopub.status.busy": "2023-07-03T22:27:27.075307Z",
     "iopub.status.idle": "2023-07-03T22:27:31.659525Z",
     "shell.execute_reply": "2023-07-03T22:27:31.657890Z"
    },
    "papermill": {
     "duration": 4.601704,
     "end_time": "2023-07-03T22:27:31.662199",
     "exception": false,
     "start_time": "2023-07-03T22:27:27.060495",
     "status": "completed"
    },
    "tags": []
   },
   "outputs": [],
   "source": [
    "train_df['numerical_room_fqid_room'] = train_df['room_fqid_room'].map(rooms_map)"
   ]
  },
  {
   "cell_type": "code",
   "execution_count": 35,
   "id": "244d8d2d",
   "metadata": {},
   "outputs": [
    {
     "data": {
      "text/plain": [
       "0     intro\n",
       "1    gramps\n",
       "2    gramps\n",
       "3    gramps\n",
       "Name: fqid, dtype: object"
      ]
     },
     "execution_count": 35,
     "metadata": {},
     "output_type": "execute_result"
    }
   ],
   "source": [
    "train_df['fqid'].head(4)"
   ]
  },
  {
   "cell_type": "code",
   "execution_count": 44,
   "id": "251f4844",
   "metadata": {
    "execution": {
     "iopub.execute_input": "2023-07-03T22:27:31.690966Z",
     "iopub.status.busy": "2023-07-03T22:27:31.690559Z",
     "iopub.status.idle": "2023-07-03T22:27:37.308575Z",
     "shell.execute_reply": "2023-07-03T22:27:37.307274Z"
    },
    "papermill": {
     "duration": 5.635536,
     "end_time": "2023-07-03T22:27:37.311476",
     "exception": false,
     "start_time": "2023-07-03T22:27:31.675940",
     "status": "completed"
    },
    "tags": []
   },
   "outputs": [],
   "source": [
    "# temp = train_df['fqid'].values.astype('<U30')\n",
    "### temp[0:5] => ['intro' 'gramps' 'gramps' 'gramps' 'gramps']\n",
    "### temp.shape => (26296946,)\n",
    "### temp.view(np.uint32).shape => (788908380,)\n",
    "### temp.view(np.uint32).reshape((temp.shape[0], -1)).shape => (26296946, 30)\n",
    "#train_df['numerical_fqid'] = JoWilder_preprocess_functions.fquids_to_number(temp.view(np.uint32).reshape((temp.shape[0], -1)))\n",
    "\n",
    "train_df['numerical_fqid'] = train_df['fqid'].fillna('').map(fqids_map)"
   ]
  },
  {
   "cell_type": "code",
   "execution_count": 39,
   "id": "476780a6",
   "metadata": {},
   "outputs": [
    {
     "data": {
      "text/plain": [
       "0    42\n",
       "1    39\n",
       "2    39\n",
       "Name: numerical_fqid, dtype: int64"
      ]
     },
     "execution_count": 39,
     "metadata": {},
     "output_type": "execute_result"
    }
   ],
   "source": [
    "train_df['numerical_fqid'].head(3)"
   ]
  },
  {
   "cell_type": "code",
   "execution_count": null,
   "id": "2246c63e",
   "metadata": {},
   "outputs": [],
   "source": []
  },
  {
   "cell_type": "code",
   "execution_count": 128,
   "id": "ac9f7d85",
   "metadata": {
    "execution": {
     "iopub.execute_input": "2023-07-03T22:27:37.341239Z",
     "iopub.status.busy": "2023-07-03T22:27:37.340200Z",
     "iopub.status.idle": "2023-07-03T22:27:41.401288Z",
     "shell.execute_reply": "2023-07-03T22:27:41.399858Z"
    },
    "papermill": {
     "duration": 4.078902,
     "end_time": "2023-07-03T22:27:41.404321",
     "exception": false,
     "start_time": "2023-07-03T22:27:37.325419",
     "status": "completed"
    },
    "tags": []
   },
   "outputs": [],
   "source": [
    "train_df['numerical_text'] = train_df['text'].fillna('').map(text_map)"
   ]
  },
  {
   "cell_type": "code",
   "execution_count": 129,
   "id": "2fa30c28",
   "metadata": {
    "execution": {
     "iopub.execute_input": "2023-07-03T22:27:41.433638Z",
     "iopub.status.busy": "2023-07-03T22:27:41.433192Z",
     "iopub.status.idle": "2023-07-03T22:27:45.384911Z",
     "shell.execute_reply": "2023-07-03T22:27:45.383743Z"
    },
    "papermill": {
     "duration": 3.969881,
     "end_time": "2023-07-03T22:27:45.388027",
     "exception": false,
     "start_time": "2023-07-03T22:27:41.418146",
     "status": "completed"
    },
    "tags": []
   },
   "outputs": [],
   "source": [
    "train_df['numerical_text_fqid'] = train_df['text_fqid'].fillna('').map(text_fqid_map)"
   ]
  },
  {
   "cell_type": "code",
   "execution_count": null,
   "id": "b68a5b5f",
   "metadata": {},
   "outputs": [],
   "source": []
  },
  {
   "cell_type": "code",
   "execution_count": null,
   "id": "b61033f5",
   "metadata": {},
   "outputs": [],
   "source": []
  },
  {
   "cell_type": "markdown",
   "id": "5981a58c",
   "metadata": {
    "papermill": {
     "duration": 0.013331,
     "end_time": "2023-07-03T22:27:45.414916",
     "exception": false,
     "start_time": "2023-07-03T22:27:45.401585",
     "status": "completed"
    },
    "tags": []
   },
   "source": [
    "### Save Preprocessed Data"
   ]
  },
  {
   "cell_type": "code",
   "execution_count": 130,
   "id": "8da0733c",
   "metadata": {
    "execution": {
     "iopub.execute_input": "2023-07-03T22:27:45.443741Z",
     "iopub.status.busy": "2023-07-03T22:27:45.443299Z",
     "iopub.status.idle": "2023-07-03T22:28:16.471938Z",
     "shell.execute_reply": "2023-07-03T22:28:16.470940Z"
    },
    "papermill": {
     "duration": 31.046266,
     "end_time": "2023-07-03T22:28:16.474691",
     "exception": false,
     "start_time": "2023-07-03T22:27:45.428425",
     "status": "completed"
    },
    "tags": []
   },
   "outputs": [],
   "source": [
    "# first sort column session_year, then session_month and so on.\n",
    "train_df.sort_values(['session_year', 'session_month', 'session_weekday', 'session_id', 'numerical_level_group', 'elapsed_time', 'index'], inplace=True) # , 'elapsed_time'\n",
    "train_labels_df.sort_values(['session_year', 'session_month', 'session_weekday', 'session_id_base', 'session_id_question'], inplace=True)"
   ]
  },
  {
   "cell_type": "code",
   "execution_count": 131,
   "id": "716198c1",
   "metadata": {
    "execution": {
     "iopub.execute_input": "2023-07-03T22:28:16.503918Z",
     "iopub.status.busy": "2023-07-03T22:28:16.503148Z",
     "iopub.status.idle": "2023-07-03T22:28:16.510055Z",
     "shell.execute_reply": "2023-07-03T22:28:16.509048Z"
    },
    "papermill": {
     "duration": 0.02405,
     "end_time": "2023-07-03T22:28:16.512253",
     "exception": false,
     "start_time": "2023-07-03T22:28:16.488203",
     "status": "completed"
    },
    "tags": []
   },
   "outputs": [],
   "source": [
    "train_df.reset_index(inplace=True, drop=True)\n",
    "train_labels_df.reset_index(inplace=True, drop=True)"
   ]
  },
  {
   "cell_type": "code",
   "execution_count": 132,
   "id": "0e17ec19",
   "metadata": {
    "execution": {
     "iopub.execute_input": "2023-07-03T22:28:16.540895Z",
     "iopub.status.busy": "2023-07-03T22:28:16.540066Z",
     "iopub.status.idle": "2023-07-03T22:29:14.806316Z",
     "shell.execute_reply": "2023-07-03T22:29:14.805216Z"
    },
    "papermill": {
     "duration": 58.283461,
     "end_time": "2023-07-03T22:29:14.809126",
     "exception": false,
     "start_time": "2023-07-03T22:28:16.525665",
     "status": "completed"
    },
    "tags": []
   },
   "outputs": [],
   "source": [
    "train_df.to_pickle('preprocessed_train_df.pkl')\n",
    "train_labels_df.to_pickle('preprocessed_train_labels_df.pkl')"
   ]
  },
  {
   "cell_type": "code",
   "execution_count": null,
   "id": "dd0b8b8b",
   "metadata": {},
   "outputs": [],
   "source": []
  }
 ],
 "metadata": {
  "kernelspec": {
   "display_name": "Python 3 (ipykernel)",
   "language": "python",
   "name": "python3"
  },
  "language_info": {
   "codemirror_mode": {
    "name": "ipython",
    "version": 3
   },
   "file_extension": ".py",
   "mimetype": "text/x-python",
   "name": "python",
   "nbconvert_exporter": "python",
   "pygments_lexer": "ipython3",
   "version": "3.7.12"
  },
  "papermill": {
   "default_parameters": {},
   "duration": 577.329003,
   "end_time": "2023-07-03T22:29:20.526115",
   "environment_variables": {},
   "exception": null,
   "input_path": "__notebook__.ipynb",
   "output_path": "__notebook__.ipynb",
   "parameters": {},
   "start_time": "2023-07-03T22:19:43.197112",
   "version": "2.4.0"
  }
 },
 "nbformat": 4,
 "nbformat_minor": 5
}
