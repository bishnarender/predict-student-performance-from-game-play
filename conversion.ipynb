{
 "cells": [
  {
   "cell_type": "code",
   "execution_count": 1,
   "id": "bd102114",
   "metadata": {},
   "outputs": [],
   "source": [
    "import pandas as pd, gc"
   ]
  },
  {
   "cell_type": "code",
   "execution_count": null,
   "id": "53a24747",
   "metadata": {},
   "outputs": [],
   "source": []
  },
  {
   "cell_type": "code",
   "execution_count": 3,
   "id": "fcaa6f8c",
   "metadata": {},
   "outputs": [
    {
     "name": "stdout",
     "output_type": "stream",
     "text": [
      "CPU times: user 42.7 s, sys: 3.66 s, total: 46.4 s\n",
      "Wall time: 45.7 s\n"
     ]
    }
   ],
   "source": [
    "%%time\n",
    "\n",
    "df = pd.read_csv('input/train.csv') \n",
    "df.to_parquet('input/train.parquet',index=False)"
   ]
  },
  {
   "cell_type": "code",
   "execution_count": 4,
   "id": "3054426b",
   "metadata": {},
   "outputs": [
    {
     "name": "stdout",
     "output_type": "stream",
     "text": [
      "CPU times: user 422 ms, sys: 60.2 ms, total: 482 ms\n",
      "Wall time: 476 ms\n"
     ]
    }
   ],
   "source": [
    "%%time\n",
    "del df; gc.collect()\n",
    "df = pd.read_csv('input/train_labels.csv') \n",
    "df.to_parquet('input/train_labels.parquet',index=False)"
   ]
  }
 ],
 "metadata": {
  "kernelspec": {
   "display_name": "Python 3 (ipykernel)",
   "language": "python",
   "name": "python3"
  },
  "language_info": {
   "codemirror_mode": {
    "name": "ipython",
    "version": 3
   },
   "file_extension": ".py",
   "mimetype": "text/x-python",
   "name": "python",
   "nbconvert_exporter": "python",
   "pygments_lexer": "ipython3",
   "version": "3.7.12"
  }
 },
 "nbformat": 4,
 "nbformat_minor": 5
}
