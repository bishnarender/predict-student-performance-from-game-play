{
 "cells": [
  {
   "cell_type": "code",
   "execution_count": 1,
   "id": "e20d6abb",
   "metadata": {},
   "outputs": [],
   "source": [
    "# This file is a modified version of the original:\n",
    "# https://www.kaggle.com/mark4h/jowilder-2nd-place-solution-2-generate-features"
   ]
  },
  {
   "cell_type": "code",
   "execution_count": null,
   "id": "41d82690",
   "metadata": {},
   "outputs": [],
   "source": []
  },
  {
   "cell_type": "code",
   "execution_count": 2,
   "id": "2375cb48",
   "metadata": {
    "_cell_guid": "aa6b6e83-5172-489a-8364-2ef32a0d9cae",
    "_uuid": "07911cb0-bd01-41bd-a4b6-026d2f263c49",
    "execution": {
     "iopub.execute_input": "2023-07-04T09:49:38.906647Z",
     "iopub.status.busy": "2023-07-04T09:49:38.906107Z",
     "iopub.status.idle": "2023-07-04T09:49:40.585249Z",
     "shell.execute_reply": "2023-07-04T09:49:40.583990Z"
    },
    "jupyter": {
     "outputs_hidden": false
    },
    "papermill": {
     "duration": 1.689892,
     "end_time": "2023-07-04T09:49:40.588426",
     "exception": false,
     "start_time": "2023-07-04T09:49:38.898534",
     "status": "completed"
    },
    "tags": []
   },
   "outputs": [],
   "source": [
    "from cffi import FFI\n",
    "import json\n",
    "import numba\n",
    "import numpy as np\n",
    "import pandas as pd\n",
    "import inspect\n",
    "ffi = FFI()"
   ]
  },
  {
   "cell_type": "code",
   "execution_count": 3,
   "id": "9c97ca9e",
   "metadata": {
    "execution": {
     "iopub.execute_input": "2023-07-04T09:49:40.600673Z",
     "iopub.status.busy": "2023-07-04T09:49:40.600176Z",
     "iopub.status.idle": "2023-07-04T09:49:40.606202Z",
     "shell.execute_reply": "2023-07-04T09:49:40.604889Z"
    },
    "papermill": {
     "duration": 0.01504,
     "end_time": "2023-07-04T09:49:40.608763",
     "exception": false,
     "start_time": "2023-07-04T09:49:40.593723",
     "status": "completed"
    },
    "tags": []
   },
   "outputs": [],
   "source": [
    "# PREPROCESSED_DIR = '/kaggle/input/jowilder-2nd-place-solution-0-preprocess-data/'\n",
    "# FEATURE_GEN_CODE_DIR = '/kaggle/input/jowilder-2nd-place-solution-1-features-code/'\n",
    "\n",
    "PREPROCESSED_DIR = 'input/'\n",
    "FEATURE_GEN_CODE_DIR = 'modules/'"
   ]
  },
  {
   "cell_type": "code",
   "execution_count": 4,
   "id": "ada53725",
   "metadata": {
    "execution": {
     "iopub.execute_input": "2023-07-04T09:49:40.620418Z",
     "iopub.status.busy": "2023-07-04T09:49:40.620006Z",
     "iopub.status.idle": "2023-07-04T09:49:40.663815Z",
     "shell.execute_reply": "2023-07-04T09:49:40.662365Z"
    },
    "papermill": {
     "duration": 0.053351,
     "end_time": "2023-07-04T09:49:40.667058",
     "exception": false,
     "start_time": "2023-07-04T09:49:40.613707",
     "status": "completed"
    },
    "tags": []
   },
   "outputs": [],
   "source": [
    "import sys\n",
    "sys.path.append(FEATURE_GEN_CODE_DIR)\n",
    "\n",
    "import JoWilder_C_features\n",
    "import JoWilder_numba_features"
   ]
  },
  {
   "cell_type": "code",
   "execution_count": null,
   "id": "65568ae9",
   "metadata": {},
   "outputs": [],
   "source": []
  },
  {
   "cell_type": "code",
   "execution_count": 5,
   "id": "52eae398",
   "metadata": {
    "execution": {
     "iopub.execute_input": "2023-07-04T09:49:40.679902Z",
     "iopub.status.busy": "2023-07-04T09:49:40.679416Z",
     "iopub.status.idle": "2023-07-04T09:50:59.553939Z",
     "shell.execute_reply": "2023-07-04T09:50:59.552464Z"
    },
    "papermill": {
     "duration": 78.889481,
     "end_time": "2023-07-04T09:50:59.562174",
     "exception": false,
     "start_time": "2023-07-04T09:49:40.672693",
     "status": "completed"
    },
    "tags": []
   },
   "outputs": [
    {
     "name": "stdout",
     "output_type": "stream",
     "text": [
      "CPU times: user 6.71 s, sys: 5.35 s, total: 12.1 s\n",
      "Wall time: 12.2 s\n"
     ]
    }
   ],
   "source": [
    "%%time\n",
    "train_labels_df = pd.read_pickle(PREPROCESSED_DIR + 'preprocessed_train_labels_df.pkl')\n",
    "train_df = pd.read_pickle(PREPROCESSED_DIR + 'preprocessed_train_df.pkl')"
   ]
  },
  {
   "cell_type": "code",
   "execution_count": 6,
   "id": "0305cb9a",
   "metadata": {
    "execution": {
     "iopub.execute_input": "2023-07-04T09:50:59.574993Z",
     "iopub.status.busy": "2023-07-04T09:50:59.574017Z",
     "iopub.status.idle": "2023-07-04T09:50:59.589047Z",
     "shell.execute_reply": "2023-07-04T09:50:59.587288Z"
    },
    "papermill": {
     "duration": 0.02489,
     "end_time": "2023-07-04T09:50:59.592080",
     "exception": false,
     "start_time": "2023-07-04T09:50:59.567190",
     "status": "completed"
    },
    "tags": []
   },
   "outputs": [
    {
     "data": {
      "text/plain": [
       "(1590, 3183)"
      ]
     },
     "execution_count": 6,
     "metadata": {},
     "output_type": "execute_result"
    }
   ],
   "source": [
    "with open(FEATURE_GEN_CODE_DIR + 'FEATURES_GENERATION_INFO.json', 'r') as f:\n",
    "    FEATURES_GENERATION_INFO = json.loads(f.read())\n",
    "    \n",
    "NUM_FEATURES = FEATURES_GENERATION_INFO['NUM_FEATURES']\n",
    "HISTORY_LEN = FEATURES_GENERATION_INFO['HISTORY_LEN']\n",
    "\n",
    "NUM_FEATURES, HISTORY_LEN"
   ]
  },
  {
   "cell_type": "code",
   "execution_count": 7,
   "id": "9cf19887",
   "metadata": {},
   "outputs": [],
   "source": [
    "@numba.jit(nopython=True, nogil=True, error_model='numpy', parallel=False)\n",
    "def get_splits(a):\n",
    "    m = np.concatenate((np.array([True]), a[1:] != a[:-1], np.array([True])))\n",
    "    m = np.where(m)[0]\n",
    "    return m"
   ]
  },
  {
   "cell_type": "code",
   "execution_count": null,
   "id": "bb42b562",
   "metadata": {},
   "outputs": [],
   "source": []
  },
  {
   "cell_type": "code",
   "execution_count": 8,
   "id": "a5d19641",
   "metadata": {
    "execution": {
     "iopub.execute_input": "2023-07-04T09:50:59.605371Z",
     "iopub.status.busy": "2023-07-04T09:50:59.604911Z",
     "iopub.status.idle": "2023-07-04T09:50:59.638566Z",
     "shell.execute_reply": "2023-07-04T09:50:59.637264Z"
    },
    "papermill": {
     "duration": 0.043708,
     "end_time": "2023-07-04T09:50:59.641268",
     "exception": false,
     "start_time": "2023-07-04T09:50:59.597560",
     "status": "completed"
    },
    "tags": []
   },
   "outputs": [],
   "source": [
    "def generate_features(\n",
    "    session_id,\n",
    "    level_group,\n",
    "    elapsed_time,\n",
    "    event_name,\n",
    "    name,\n",
    "    level,\n",
    "    hover_duration,\n",
    "    session_weekday,\n",
    "    building,\n",
    "    room,\n",
    "    fqids,\n",
    "    session_event_index,\n",
    "    room_coor_x,\n",
    "    room_coor_y,\n",
    "    screen_coor_x,\n",
    "    screen_coor_y,\n",
    "    text_length,\n",
    "    text_numerical,\n",
    "    text_fqid_numerical,\n",
    "    room_fqid_numerical,\n",
    "    page,\n",
    "    session_hour,\n",
    "):\n",
    "    # session_id[:4] => [20090312431273200 20090312431273200 20090312431273200 20090312431273200]\n",
    "    # len(session_id) => 26296946\n",
    "    # get indices from which unique session_id begins.\n",
    "    session_splits = get_splits(session_id)\n",
    "    # session_splits[:4] => [   0  881 2712 3470]\n",
    "    # len(session_splits) => 23563\n",
    "    \n",
    "    # session_id[880], session_id[881] => 20090312431273200, 20090312433251036    \n",
    "\n",
    "    num_sessions = session_splits.shape[0] - 1\n",
    "    \n",
    "    num_questions_per_session = 18\n",
    "    questions_per_level = np.array([3, 10, 5])\n",
    "    questions_splits_per_level = np.array([0, 3, 13, 18])\n",
    "    n = num_sessions * num_questions_per_session\n",
    "    # n => 424116    \n",
    "    \n",
    "    out_session_id = np.full(n, -1, dtype=np.int64)\n",
    "    out_level_group = np.full(n, -1, dtype=np.int32)\n",
    "    out_question_number = np.full(n, -1, dtype=np.int32)\n",
    "    out = np.full((n, NUM_FEATURES), np.nan, dtype=np.float32)\n",
    "    # out.shape, out.size => (424116, 1590), 674344440\n",
    "    # 424116*1590 => 674344440\n",
    "    \n",
    "    history = {}\n",
    "    \n",
    "    # cdecl => C declaration of the target C data type.\n",
    "    # require_writable (defaul False) => a boolean flag indicating whether the Python buffer must be writable.\n",
    "    # .from_buffer([cdecl,] python_buffer, require_writable=False) =>    \n",
    "    # allows you to pass Python buffer objects directly to C functions that expect pointers or arrays.\n",
    "    # return an array cdata (by default a <cdata 'char[]'>) that points to the data of the given Python buffer object.    \n",
    "    x_et_pointer = ffi.from_buffer('long[]', elapsed_time)\n",
    "    # x_et_pointer => <cdata 'long[]' buffer len 26296946 from 'numpy.ndarray' object>\n",
    "    \n",
    "    x_en_pointer = ffi.from_buffer('long[]', event_name)\n",
    "    x_n_pointer = ffi.from_buffer('long[]', name)\n",
    "    x_hover_duration_pointer = ffi.from_buffer('double[]', hover_duration)\n",
    "    x_session_weekday_pointer = ffi.from_buffer('long[]', session_weekday)\n",
    "    x_b_pointer = ffi.from_buffer('long[]', building)\n",
    "    x_r_pointer = ffi.from_buffer('long[]', room)\n",
    "    x_fqids_pointer = ffi.from_buffer('long[]', fqids)\n",
    "    x_l_pointer = ffi.from_buffer('long[]', level)\n",
    "    x_index_pointer = ffi.from_buffer('long[]', session_event_index)\n",
    "    x_rc_x_pointer = ffi.from_buffer('double[]', room_coor_x)\n",
    "    x_rc_y_pointer = ffi.from_buffer('double[]', room_coor_y)\n",
    "    x_sc_x_pointer = ffi.from_buffer('double[]', screen_coor_x)\n",
    "    x_sc_y_pointer = ffi.from_buffer('double[]', screen_coor_y)\n",
    "    x_tl_pointer = ffi.from_buffer('long[]', text_length)\n",
    "    x_text_numerical_pointer = ffi.from_buffer('long[]', text_numerical)\n",
    "    x_text_fqid_numerical_pointer = ffi.from_buffer('long[]', text_fqid_numerical)\n",
    "    x_room_fqid_numerical_pointer = ffi.from_buffer('long[]', room_fqid_numerical)\n",
    "    x_page_pointer = ffi.from_buffer('double[]', page)\n",
    "    x_hour_pointer = ffi.from_buffer('long[]', session_hour)\n",
    "    \n",
    "    out_pointer = ffi.from_buffer('float[]', out)\n",
    "    \n",
    "    # Numba's prange instead of range to specify that loop is now parallelized.\n",
    "    # all iterations of the for loop can execute in parallel.\n",
    "    for session_index in numba.prange(num_sessions): # my_\n",
    "    #for session_index in range(num_sessions):\n",
    "    \n",
    "        try:\n",
    "            hist = history[session_index]\n",
    "        except KeyError:\n",
    "            hist = np.full(HISTORY_LEN, np.nan, dtype=np.float64)\n",
    "            history[session_index] = hist\n",
    "            \n",
    "        hist_pointer = ffi.from_buffer('double[]', hist)\n",
    "        \n",
    "        session_out_s = session_index * num_questions_per_session\n",
    "        \n",
    "        # session start index.\n",
    "        session_s = session_splits[session_index] \n",
    "        # session end index.\n",
    "        session_e = session_splits[session_index + 1]                       \n",
    "        \n",
    "        # level_group[session_s:session_e][:5] => [0 0 0 0 0]\n",
    "        # get indices from which unique level_group begins.\n",
    "        level_group_splits = get_splits(level_group[session_s:session_e])\n",
    "        # level_group_splits[:5] => [  0 165 461 881]\n",
    "        \n",
    "        # level_group[session_s:session_e][164], level_group[session_s:session_e][165] => 0, 1        \n",
    "        \n",
    "        num_level_groups = level_group_splits.shape[0] - 1\n",
    "        \n",
    "        out_session_id[session_out_s:session_out_s+num_questions_per_session] = session_id[session_s]\n",
    "        # out_session_id[:18], out_session_id[18:36], out_session_id[36:54] ... so on.\n",
    "        \n",
    "        for level_group_index in range(num_level_groups):\n",
    "            \n",
    "            # s => level_group start index within a particular session.\n",
    "            s = session_s + level_group_splits[level_group_index]\n",
    "            # e => level_group end index within a particular session.\n",
    "            e = session_s + level_group_splits[level_group_index + 1]\n",
    "            \n",
    "            assert level_group[s] == level_group_index\n",
    "            \n",
    "            if level_group_index >= 3:\n",
    "                assert False\n",
    "                break\n",
    "            \n",
    "            # num_questions_in_level => 3 (level_group_index=0), 10 (level_group_index=1) and 5 (...)\n",
    "            num_questions_in_level = questions_per_level[level_group_index]\n",
    "            \n",
    "            # questions_start_number => 0 (level_group_index=0), 3 (level_group_index=1) and 13 (...)\n",
    "            questions_start_number = questions_splits_per_level[level_group_index] \n",
    "            \n",
    "            # questions_end_number => 3 (level_group_index=0), 13 (level_group_index=1) and 18 (...)\n",
    "            questions_end_number = questions_splits_per_level[level_group_index + 1]\n",
    "            \n",
    "            \n",
    "            out_s = session_out_s + questions_start_number # 0, 3, 13\n",
    "            out_e = session_out_s + questions_end_number # 3, 13, 18\n",
    "            \n",
    "            x_et = elapsed_time[s:e]\n",
    "            x_en = event_name[s:e]\n",
    "            x_n = name[s:e]\n",
    "            x_hover_duration = hover_duration[s:e]\n",
    "            x_session_weekday = session_weekday[s:e]\n",
    "            x_b = building[s:e]\n",
    "            x_r = room[s:e]\n",
    "            x_fqids = fqids[s:e]\n",
    "            x_l = level[s:e]\n",
    "            x_index = session_event_index[s:e]\n",
    "            x_rc_x = room_coor_x[s:e]\n",
    "            x_rc_y = room_coor_y[s:e]\n",
    "            x_sc_x = screen_coor_x[s:e]\n",
    "            x_sc_y = screen_coor_y[s:e]\n",
    "            x_tl = text_length[s:e]\n",
    "            x_text_numerical = text_numerical[s:e]\n",
    "            x_text_fqid_numerical = text_fqid_numerical[s:e]\n",
    "            x_room_fqid_numerical = room_fqid_numerical[s:e]\n",
    "            x_page = page[s:e]\n",
    "            x_hour = session_hour[s:e]\n",
    "\n",
    "            question_number = np.arange(questions_start_number, questions_end_number)\n",
    "            out_question_number[out_s:out_e] = question_number\n",
    "            # out_question_number[out_s:out_e] => [0 1 2]\n",
    "            \n",
    "            out_level_group[out_s:out_e] = level_group_index\n",
    "            # out_level_group[out_s:out_e] => [0 0 0]\n",
    "            \n",
    "            \n",
    "            JoWilder_numba_features.process_single(\n",
    "                level_group_index,\n",
    "                x_et,\n",
    "                x_en,\n",
    "                x_n,\n",
    "                x_hover_duration,\n",
    "                x_session_weekday,\n",
    "                x_b,\n",
    "                x_r,\n",
    "                x_fqids,\n",
    "                x_l,\n",
    "                x_index,\n",
    "                x_rc_x,\n",
    "                x_rc_y,\n",
    "                x_sc_x,\n",
    "                x_sc_y,\n",
    "                x_tl,\n",
    "                x_text_numerical,\n",
    "                x_text_fqid_numerical,\n",
    "                x_room_fqid_numerical,\n",
    "                x_page,\n",
    "                x_hour,\n",
    "                out[out_s:out_e],\n",
    "                hist,\n",
    "            )\n",
    "            # x_et.shape => 165\n",
    "            \n",
    "            number_of_events = x_et.shape[0]\n",
    "            \n",
    "            JoWilder_C_features.lib.fill_history(\n",
    "                level_group_index,\n",
    "                x_l_pointer + s,\n",
    "                hist_pointer,\n",
    "                x_index_pointer + s,\n",
    "                x_text_numerical_pointer + s,\n",
    "                x_en_pointer + s,\n",
    "                x_n_pointer + s,\n",
    "                x_fqids_pointer + s,\n",
    "                x_et_pointer + s, # ffi.from_buffer(x_et),\n",
    "                x_rc_x_pointer + s,\n",
    "                x_rc_y_pointer + s,\n",
    "                x_sc_x_pointer + s,\n",
    "                x_sc_y_pointer + s,\n",
    "                x_b_pointer + s,\n",
    "                x_r_pointer + s,\n",
    "                x_room_fqid_numerical_pointer + s,\n",
    "                x_text_fqid_numerical_pointer + s,\n",
    "                x_page_pointer + s,\n",
    "                x_hover_duration_pointer + s,\n",
    "                number_of_events,\n",
    "            )\n",
    "            \n",
    "            JoWilder_C_features.lib.add_features_batch(\n",
    "                level_group_index,\n",
    "                out_pointer + (out_s * NUM_FEATURES),\n",
    "                hist_pointer,\n",
    "                (out_e - out_s)\n",
    "            )\n",
    "            \n",
    "        #break # my_\n",
    "    return out_session_id, out_level_group, out_question_number, out"
   ]
  },
  {
   "cell_type": "code",
   "execution_count": null,
   "id": "670b7668",
   "metadata": {},
   "outputs": [],
   "source": []
  },
  {
   "cell_type": "code",
   "execution_count": null,
   "id": "24a043f5",
   "metadata": {
    "execution": {
     "iopub.execute_input": "2023-07-04T09:50:59.656158Z",
     "iopub.status.busy": "2023-07-04T09:50:59.655709Z",
     "iopub.status.idle": "2023-07-04T09:50:59.745811Z",
     "shell.execute_reply": "2023-07-04T09:50:59.744426Z"
    },
    "papermill": {
     "duration": 0.102016,
     "end_time": "2023-07-04T09:50:59.748806",
     "exception": false,
     "start_time": "2023-07-04T09:50:59.646790",
     "status": "completed"
    },
    "tags": []
   },
   "outputs": [],
   "source": []
  },
  {
   "cell_type": "code",
   "execution_count": 9,
   "id": "76a06baa",
   "metadata": {},
   "outputs": [
    {
     "data": {
      "text/plain": [
       "0                     undefined\n",
       "1        Just talking to Teddy.\n",
       "2    I gotta run to my meeting!\n",
       "Name: text, dtype: object"
      ]
     },
     "execution_count": 9,
     "metadata": {},
     "output_type": "execute_result"
    }
   ],
   "source": [
    "train_df['text'].head(3)"
   ]
  },
  {
   "cell_type": "code",
   "execution_count": 10,
   "id": "f5c3012e",
   "metadata": {
    "execution": {
     "iopub.execute_input": "2023-07-04T09:50:59.761242Z",
     "iopub.status.busy": "2023-07-04T09:50:59.760808Z",
     "iopub.status.idle": "2023-07-04T09:51:08.519266Z",
     "shell.execute_reply": "2023-07-04T09:51:08.514900Z"
    },
    "papermill": {
     "duration": 8.774668,
     "end_time": "2023-07-04T09:51:08.528806",
     "exception": false,
     "start_time": "2023-07-04T09:50:59.754138",
     "status": "completed"
    },
    "tags": []
   },
   "outputs": [
    {
     "name": "stdout",
     "output_type": "stream",
     "text": [
      "CPU times: user 2.76 s, sys: 99.2 ms, total: 2.86 s\n",
      "Wall time: 2.85 s\n"
     ]
    }
   ],
   "source": [
    "%%time\n",
    "train_df['text_length'] = train_df['text'].str.len()"
   ]
  },
  {
   "cell_type": "code",
   "execution_count": 11,
   "id": "27ac150f",
   "metadata": {},
   "outputs": [
    {
     "data": {
      "text/plain": [
       "0     9.0\n",
       "1    22.0\n",
       "2    26.0\n",
       "Name: text_length, dtype: float64"
      ]
     },
     "execution_count": 11,
     "metadata": {},
     "output_type": "execute_result"
    }
   ],
   "source": [
    "train_df['text_length'].head(3)"
   ]
  },
  {
   "cell_type": "code",
   "execution_count": null,
   "id": "d513175f",
   "metadata": {},
   "outputs": [],
   "source": []
  },
  {
   "cell_type": "code",
   "execution_count": null,
   "id": "86f16071",
   "metadata": {},
   "outputs": [],
   "source": []
  },
  {
   "cell_type": "code",
   "execution_count": 12,
   "id": "5fc98dfe",
   "metadata": {
    "execution": {
     "iopub.execute_input": "2023-07-04T09:51:08.566200Z",
     "iopub.status.busy": "2023-07-04T09:51:08.564528Z",
     "iopub.status.idle": "2023-07-04T09:51:37.230101Z",
     "shell.execute_reply": "2023-07-04T09:51:37.227253Z"
    },
    "papermill": {
     "duration": 28.690112,
     "end_time": "2023-07-04T09:51:37.235451",
     "exception": false,
     "start_time": "2023-07-04T09:51:08.545339",
     "status": "completed"
    },
    "tags": []
   },
   "outputs": [
    {
     "name": "stdout",
     "output_type": "stream",
     "text": [
      "CPU times: user 7.74 s, sys: 688 ms, total: 8.42 s\n",
      "Wall time: 8.57 s\n"
     ]
    }
   ],
   "source": [
    "%%time\n",
    "X_session_id, X_out_level_group, X_out_question_number, X_out = generate_features(\n",
    "    train_df['session_id'].values,\n",
    "    train_df['numerical_level_group'].values,\n",
    "    train_df['elapsed_time'].values,\n",
    "    train_df['numerical_event_name'].values,\n",
    "    train_df['numerical_name'].values,\n",
    "    train_df['level'].values,\n",
    "    train_df['hover_duration'].values,\n",
    "    train_df['session_weekday'].values,\n",
    "    train_df['numerical_room_fqid_building'].values,\n",
    "    train_df['numerical_room_fqid_room'].values,\n",
    "    train_df['numerical_fqid'].values,\n",
    "    train_df['index'].values,\n",
    "    train_df['room_coor_x'].values,\n",
    "    train_df['room_coor_y'].values,\n",
    "    train_df['screen_coor_x'].values,\n",
    "    train_df['screen_coor_y'].values,\n",
    "    train_df['text_length'].values,\n",
    "    train_df['numerical_text'].values,\n",
    "    train_df['numerical_text_fqid'].values,\n",
    "    train_df['numerical_room_fqid'].values,\n",
    "    train_df['page'].values,\n",
    "    train_df[\"session_hour\"].values,\n",
    ")"
   ]
  },
  {
   "cell_type": "code",
   "execution_count": null,
   "id": "cba7b887",
   "metadata": {},
   "outputs": [],
   "source": []
  },
  {
   "cell_type": "code",
   "execution_count": 13,
   "id": "1160b278",
   "metadata": {},
   "outputs": [
    {
     "name": "stdout",
     "output_type": "stream",
     "text": [
      "(424116, 1590)\n"
     ]
    }
   ],
   "source": [
    "print(X_out.shape)"
   ]
  },
  {
   "cell_type": "code",
   "execution_count": 14,
   "id": "9fb6ec75",
   "metadata": {
    "execution": {
     "iopub.execute_input": "2023-07-04T09:51:37.250519Z",
     "iopub.status.busy": "2023-07-04T09:51:37.249899Z",
     "iopub.status.idle": "2023-07-04T09:51:43.648189Z",
     "shell.execute_reply": "2023-07-04T09:51:43.646800Z"
    },
    "papermill": {
     "duration": 6.409649,
     "end_time": "2023-07-04T09:51:43.651677",
     "exception": false,
     "start_time": "2023-07-04T09:51:37.242028",
     "status": "completed"
    },
    "tags": []
   },
   "outputs": [],
   "source": [
    "np.save('X_session_id.npy', X_session_id)\n",
    "np.save('X_out_level_group.npy', X_out_level_group)\n",
    "np.save('X_out_question_number.npy', X_out_question_number)\n",
    "np.save('X_out.npy', X_out)"
   ]
  },
  {
   "cell_type": "code",
   "execution_count": 11,
   "id": "a58070fc",
   "metadata": {
    "execution": {
     "iopub.execute_input": "2023-07-04T09:51:44.764671Z",
     "iopub.status.busy": "2023-07-04T09:51:44.764210Z",
     "iopub.status.idle": "2023-07-04T09:51:46.292378Z",
     "shell.execute_reply": "2023-07-04T09:51:46.290370Z"
    },
    "papermill": {
     "duration": 1.544463,
     "end_time": "2023-07-04T09:51:46.297885",
     "exception": false,
     "start_time": "2023-07-04T09:51:44.753422",
     "status": "completed"
    },
    "tags": []
   },
   "outputs": [
    {
     "name": "stdout",
     "output_type": "stream",
     "text": [
      "total 2.6G\r\n",
      "-rw-r--r-- 1 root root 2.6G Jul  4 09:51 X_out.npy\r\n",
      "-rw-r--r-- 1 root root 1.7M Jul  4 09:51 X_out_level_group.npy\r\n",
      "-rw-r--r-- 1 root root 1.7M Jul  4 09:51 X_out_question_number.npy\r\n",
      "-rw-r--r-- 1 root root 3.3M Jul  4 09:51 X_session_id.npy\r\n",
      "---------- 1 root root  20K Jul  4 09:51 __notebook__.ipynb\r\n"
     ]
    }
   ],
   "source": [
    "!ls -lh"
   ]
  }
 ],
 "metadata": {
  "kernelspec": {
   "display_name": "Python 3 (ipykernel)",
   "language": "python",
   "name": "python3"
  },
  "language_info": {
   "codemirror_mode": {
    "name": "ipython",
    "version": 3
   },
   "file_extension": ".py",
   "mimetype": "text/x-python",
   "name": "python",
   "nbconvert_exporter": "python",
   "pygments_lexer": "ipython3",
   "version": "3.7.12"
  },
  "papermill": {
   "default_parameters": {},
   "duration": 144.055944,
   "end_time": "2023-07-04T09:51:49.633140",
   "environment_variables": {},
   "exception": null,
   "input_path": "__notebook__.ipynb",
   "output_path": "__notebook__.ipynb",
   "parameters": {},
   "start_time": "2023-07-04T09:49:25.577196",
   "version": "2.4.0"
  }
 },
 "nbformat": 4,
 "nbformat_minor": 5
}
