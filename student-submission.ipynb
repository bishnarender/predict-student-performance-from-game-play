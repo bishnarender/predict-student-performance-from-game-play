{
 "cells": [
  {
   "cell_type": "code",
   "execution_count": 1,
   "id": "fff28277",
   "metadata": {
    "_cell_guid": "b1076dfc-b9ad-4769-8c92-a6c4dae69d19",
    "_uuid": "8f2839f25d086af736a60e9eeb907d3b93b6e0e5",
    "execution": {
     "iopub.execute_input": "2023-08-05T03:54:21.420346Z",
     "iopub.status.busy": "2023-08-05T03:54:21.419969Z",
     "iopub.status.idle": "2023-08-05T03:54:21.454425Z",
     "shell.execute_reply": "2023-08-05T03:54:21.453394Z"
    },
    "papermill": {
     "duration": 0.043225,
     "end_time": "2023-08-05T03:54:21.456798",
     "exception": false,
     "start_time": "2023-08-05T03:54:21.413573",
     "status": "completed"
    },
    "tags": []
   },
   "outputs": [],
   "source": [
    "import sys\n",
    "\n",
    "sys.path.append('/kaggle/input/predict-student-performance-from-game-play')\n",
    "import jo_wilder_310"
   ]
  },
  {
   "cell_type": "code",
   "execution_count": 2,
   "id": "845be4fe",
   "metadata": {
    "execution": {
     "iopub.execute_input": "2023-08-05T03:54:21.468809Z",
     "iopub.status.busy": "2023-08-05T03:54:21.467999Z",
     "iopub.status.idle": "2023-08-05T03:54:23.631514Z",
     "shell.execute_reply": "2023-08-05T03:54:23.630644Z"
    },
    "papermill": {
     "duration": 2.172089,
     "end_time": "2023-08-05T03:54:23.633812",
     "exception": false,
     "start_time": "2023-08-05T03:54:21.461723",
     "status": "completed"
    },
    "tags": []
   },
   "outputs": [
    {
     "name": "stderr",
     "output_type": "stream",
     "text": [
      "/opt/conda/lib/python3.10/site-packages/scipy/__init__.py:146: UserWarning: A NumPy version >=1.16.5 and <1.23.0 is required for this version of SciPy (detected version 1.23.5\n",
      "  warnings.warn(f\"A NumPy version >={np_minversion} and <{np_maxversion}\"\n"
     ]
    }
   ],
   "source": [
    "from cffi import FFI\n",
    "import json\n",
    "import lightgbm as lgb\n",
    "import numpy as np\n",
    "import pandas as pd\n",
    "\n",
    "ffi = FFI()"
   ]
  },
  {
   "cell_type": "code",
   "execution_count": 3,
   "id": "86315d7f",
   "metadata": {
    "execution": {
     "iopub.execute_input": "2023-08-05T03:54:23.644875Z",
     "iopub.status.busy": "2023-08-05T03:54:23.644245Z",
     "iopub.status.idle": "2023-08-05T03:54:23.648102Z",
     "shell.execute_reply": "2023-08-05T03:54:23.647403Z"
    },
    "papermill": {
     "duration": 0.011394,
     "end_time": "2023-08-05T03:54:23.649855",
     "exception": false,
     "start_time": "2023-08-05T03:54:23.638461",
     "status": "completed"
    },
    "tags": []
   },
   "outputs": [],
   "source": [
    "PREPROCESSED_DIR = '/kaggle/input/student-utils/student-utils/student-utils/'\n",
    "FEATURE_GEN_CODE_DIR = '/kaggle/input/student-utils/student-utils/student-utils/'\n",
    "MODEL_DIR = '/kaggle/input/student-utils/'"
   ]
  },
  {
   "cell_type": "code",
   "execution_count": 4,
   "id": "8c02e4b3",
   "metadata": {
    "execution": {
     "iopub.execute_input": "2023-08-05T03:54:23.660260Z",
     "iopub.status.busy": "2023-08-05T03:54:23.659734Z",
     "iopub.status.idle": "2023-08-05T03:54:23.663146Z",
     "shell.execute_reply": "2023-08-05T03:54:23.662456Z"
    },
    "papermill": {
     "duration": 0.010617,
     "end_time": "2023-08-05T03:54:23.664883",
     "exception": false,
     "start_time": "2023-08-05T03:54:23.654266",
     "status": "completed"
    },
    "tags": []
   },
   "outputs": [],
   "source": [
    "# import imp to see which cython extension this python version supports.\n",
    "#import _imp\n",
    "#_imp.extension_suffixes()\n",
    "# ['.cpython-310-x86_64-linux-gnu.so', '.abi3.so', '.so']\n",
    "\n",
    "# if your so file is not supporting then remove cython extension and leave only so extension."
   ]
  },
  {
   "cell_type": "code",
   "execution_count": 5,
   "id": "5210fcc3",
   "metadata": {
    "execution": {
     "iopub.execute_input": "2023-08-05T03:54:23.675402Z",
     "iopub.status.busy": "2023-08-05T03:54:23.674786Z",
     "iopub.status.idle": "2023-08-05T03:54:23.707236Z",
     "shell.execute_reply": "2023-08-05T03:54:23.706376Z"
    },
    "papermill": {
     "duration": 0.040106,
     "end_time": "2023-08-05T03:54:23.709387",
     "exception": false,
     "start_time": "2023-08-05T03:54:23.669281",
     "status": "completed"
    },
    "tags": []
   },
   "outputs": [],
   "source": [
    "sys.path.append(FEATURE_GEN_CODE_DIR)\n",
    "\n",
    "import JoWilder_numba_features\n",
    "import JoWilder_C_features"
   ]
  },
  {
   "cell_type": "code",
   "execution_count": null,
   "id": "6a50e4bf",
   "metadata": {
    "papermill": {
     "duration": 0.00412,
     "end_time": "2023-08-05T03:54:23.717988",
     "exception": false,
     "start_time": "2023-08-05T03:54:23.713868",
     "status": "completed"
    },
    "tags": []
   },
   "outputs": [],
   "source": []
  },
  {
   "cell_type": "code",
   "execution_count": 6,
   "id": "1d1748e8",
   "metadata": {
    "execution": {
     "iopub.execute_input": "2023-08-05T03:54:23.729997Z",
     "iopub.status.busy": "2023-08-05T03:54:23.729275Z",
     "iopub.status.idle": "2023-08-05T03:54:23.745490Z",
     "shell.execute_reply": "2023-08-05T03:54:23.744448Z"
    },
    "papermill": {
     "duration": 0.024419,
     "end_time": "2023-08-05T03:54:23.748084",
     "exception": false,
     "start_time": "2023-08-05T03:54:23.723665",
     "status": "completed"
    },
    "tags": []
   },
   "outputs": [],
   "source": [
    "# sys.path.append(PREPROCESSED_DIR)\n",
    "\n",
    "import JoWilder_preprocess_functions"
   ]
  },
  {
   "cell_type": "code",
   "execution_count": 7,
   "id": "4596da08",
   "metadata": {
    "execution": {
     "iopub.execute_input": "2023-08-05T03:54:23.759494Z",
     "iopub.status.busy": "2023-08-05T03:54:23.758903Z",
     "iopub.status.idle": "2023-08-05T03:54:23.768930Z",
     "shell.execute_reply": "2023-08-05T03:54:23.768208Z"
    },
    "papermill": {
     "duration": 0.018623,
     "end_time": "2023-08-05T03:54:23.771458",
     "exception": false,
     "start_time": "2023-08-05T03:54:23.752835",
     "status": "completed"
    },
    "tags": []
   },
   "outputs": [],
   "source": [
    "with open(PREPROCESSED_DIR + \"preprocess_info.json\", \"r\") as f:\n",
    "    preprocess_info = json.loads(f.read())"
   ]
  },
  {
   "cell_type": "code",
   "execution_count": 8,
   "id": "e2b97847",
   "metadata": {
    "execution": {
     "iopub.execute_input": "2023-08-05T03:54:23.781955Z",
     "iopub.status.busy": "2023-08-05T03:54:23.781607Z",
     "iopub.status.idle": "2023-08-05T03:54:23.786050Z",
     "shell.execute_reply": "2023-08-05T03:54:23.785322Z"
    },
    "papermill": {
     "duration": 0.012582,
     "end_time": "2023-08-05T03:54:23.788715",
     "exception": false,
     "start_time": "2023-08-05T03:54:23.776133",
     "status": "completed"
    },
    "tags": []
   },
   "outputs": [],
   "source": [
    "level_group_map = preprocess_info['level_group_map']\n",
    "\n",
    "questions_per_level = np.array([3, 10, 5])\n",
    "questions_splits_per_level = np.array([0, 3, 13, 18])"
   ]
  },
  {
   "cell_type": "code",
   "execution_count": 9,
   "id": "f26c20cb",
   "metadata": {
    "execution": {
     "iopub.execute_input": "2023-08-05T03:54:23.799463Z",
     "iopub.status.busy": "2023-08-05T03:54:23.798801Z",
     "iopub.status.idle": "2023-08-05T03:54:23.807846Z",
     "shell.execute_reply": "2023-08-05T03:54:23.806873Z"
    },
    "papermill": {
     "duration": 0.016827,
     "end_time": "2023-08-05T03:54:23.809969",
     "exception": false,
     "start_time": "2023-08-05T03:54:23.793142",
     "status": "completed"
    },
    "tags": []
   },
   "outputs": [],
   "source": [
    "with open(FEATURE_GEN_CODE_DIR + 'FEATURES_GENERATION_INFO.json', 'r') as f:\n",
    "    FEATURES_GENERATION_INFO = json.loads(f.read())\n",
    "    \n",
    "NUM_FEATURES = FEATURES_GENERATION_INFO['NUM_FEATURES']\n",
    "HISTORY_LEN = FEATURES_GENERATION_INFO['HISTORY_LEN']"
   ]
  },
  {
   "cell_type": "code",
   "execution_count": 10,
   "id": "ae2378a1",
   "metadata": {
    "execution": {
     "iopub.execute_input": "2023-08-05T03:54:23.820949Z",
     "iopub.status.busy": "2023-08-05T03:54:23.820297Z",
     "iopub.status.idle": "2023-08-05T03:54:23.824103Z",
     "shell.execute_reply": "2023-08-05T03:54:23.823413Z"
    },
    "papermill": {
     "duration": 0.011484,
     "end_time": "2023-08-05T03:54:23.826081",
     "exception": false,
     "start_time": "2023-08-05T03:54:23.814597",
     "status": "completed"
    },
    "tags": []
   },
   "outputs": [],
   "source": [
    "# with open(MODEL_DIR + 'MODEL_INFO.json', 'r') as f:\n",
    "#     MODEL_INFO = json.loads(f.read())\n",
    "    \n",
    "THRESHOLD = 0.63#MODEL_INFO['THRESHOLD']"
   ]
  },
  {
   "cell_type": "code",
   "execution_count": 11,
   "id": "9a660083",
   "metadata": {
    "execution": {
     "iopub.execute_input": "2023-08-05T03:54:23.837150Z",
     "iopub.status.busy": "2023-08-05T03:54:23.836470Z",
     "iopub.status.idle": "2023-08-05T03:54:23.842797Z",
     "shell.execute_reply": "2023-08-05T03:54:23.842094Z"
    },
    "papermill": {
     "duration": 0.013876,
     "end_time": "2023-08-05T03:54:23.844605",
     "exception": false,
     "start_time": "2023-08-05T03:54:23.830729",
     "status": "completed"
    },
    "tags": []
   },
   "outputs": [
    {
     "data": {
      "text/plain": [
       "(1590, 3183, 0.63)"
      ]
     },
     "execution_count": 11,
     "metadata": {},
     "output_type": "execute_result"
    }
   ],
   "source": [
    "NUM_FEATURES, HISTORY_LEN, THRESHOLD"
   ]
  },
  {
   "cell_type": "code",
   "execution_count": 12,
   "id": "69cb1b26",
   "metadata": {
    "execution": {
     "iopub.execute_input": "2023-08-05T03:54:23.855644Z",
     "iopub.status.busy": "2023-08-05T03:54:23.854993Z",
     "iopub.status.idle": "2023-08-05T03:54:24.350804Z",
     "shell.execute_reply": "2023-08-05T03:54:24.349887Z"
    },
    "papermill": {
     "duration": 0.50373,
     "end_time": "2023-08-05T03:54:24.353045",
     "exception": false,
     "start_time": "2023-08-05T03:54:23.849315",
     "status": "completed"
    },
    "tags": []
   },
   "outputs": [],
   "source": [
    "model = lgb.Booster(model_file=f'{MODEL_DIR}/model_0_0.txt')"
   ]
  },
  {
   "cell_type": "code",
   "execution_count": 13,
   "id": "eab08dd1",
   "metadata": {
    "execution": {
     "iopub.execute_input": "2023-08-05T03:54:24.364130Z",
     "iopub.status.busy": "2023-08-05T03:54:24.363573Z",
     "iopub.status.idle": "2023-08-05T03:54:24.378705Z",
     "shell.execute_reply": "2023-08-05T03:54:24.377862Z"
    },
    "papermill": {
     "duration": 0.023102,
     "end_time": "2023-08-05T03:54:24.380783",
     "exception": false,
     "start_time": "2023-08-05T03:54:24.357681",
     "status": "completed"
    },
    "tags": []
   },
   "outputs": [],
   "source": [
    "def generate_features(\n",
    "    session_id,\n",
    "    level_group_index,\n",
    "    elapsed_time,\n",
    "    event_name,\n",
    "    name,\n",
    "    level,\n",
    "    hover_duration,\n",
    "    session_weekday,\n",
    "    building,\n",
    "    room,\n",
    "    fqids,\n",
    "    session_event_index,\n",
    "    room_coor_x,\n",
    "    room_coor_y,\n",
    "    screen_coor_x,\n",
    "    screen_coor_y,\n",
    "    text_length,\n",
    "    text_numerical,\n",
    "    text_fqid_numerical,\n",
    "    room_fqid_numerical,\n",
    "    page,\n",
    "    session_hour,\n",
    "    hist,\n",
    "):\n",
    "    \n",
    "    hist_pointer = ffi.from_buffer('double[]', hist)\n",
    "    \n",
    "    num_questions_in_level = questions_per_level[level_group_index]\n",
    "    \n",
    "    questions_start_number = questions_splits_per_level[level_group_index]\n",
    "    questions_end_number = questions_splits_per_level[level_group_index + 1]\n",
    "    question_number = np.arange(questions_start_number, questions_end_number)\n",
    "    \n",
    "    features = np.full((num_questions_in_level, NUM_FEATURES), np.nan, dtype=np.float32)\n",
    "    \n",
    "    features_pointer = ffi.from_buffer('float[]', features)\n",
    "    \n",
    "    x_et_pointer = ffi.from_buffer('long[]', elapsed_time)\n",
    "    x_en_pointer = ffi.from_buffer('long[]', event_name)\n",
    "    x_n_pointer = ffi.from_buffer('long[]', name)\n",
    "    x_hover_duration_pointer = ffi.from_buffer('double[]', hover_duration)\n",
    "    x_session_weekday_pointer = ffi.from_buffer('long[]', session_weekday)\n",
    "    x_b_pointer = ffi.from_buffer('long[]', building)\n",
    "    x_r_pointer = ffi.from_buffer('long[]', room)\n",
    "    x_fqids_pointer = ffi.from_buffer('long[]', fqids)\n",
    "    x_l_pointer = ffi.from_buffer('long[]', level)\n",
    "    x_index_pointer = ffi.from_buffer('long[]', session_event_index)\n",
    "    x_rc_x_pointer = ffi.from_buffer('double[]', room_coor_x)\n",
    "    x_rc_y_pointer = ffi.from_buffer('double[]', room_coor_y)\n",
    "    x_sc_x_pointer = ffi.from_buffer('double[]', screen_coor_x)\n",
    "    x_sc_y_pointer = ffi.from_buffer('double[]', screen_coor_y)\n",
    "    x_tl_pointer = ffi.from_buffer('long[]', text_length)\n",
    "    x_text_numerical_pointer = ffi.from_buffer('long[]', text_numerical)\n",
    "    x_text_fqid_numerical_pointer = ffi.from_buffer('long[]', text_fqid_numerical)\n",
    "    x_room_fqid_numerical_pointer = ffi.from_buffer('long[]', room_fqid_numerical)\n",
    "    x_page_pointer = ffi.from_buffer('double[]', page)\n",
    "    x_hour_pointer = ffi.from_buffer('long[]', session_hour)\n",
    "    \n",
    "    x_et = elapsed_time\n",
    "    x_en = event_name\n",
    "    x_n = name\n",
    "    x_hover_duration = hover_duration\n",
    "    x_session_weekday = session_weekday\n",
    "    x_b = building\n",
    "    x_r = room\n",
    "    x_fqids = fqids\n",
    "    x_l = level\n",
    "    x_index = session_event_index\n",
    "    x_rc_x = room_coor_x\n",
    "    x_rc_y = room_coor_y\n",
    "    x_sc_x = screen_coor_x\n",
    "    x_sc_y = screen_coor_y\n",
    "    x_tl = text_length\n",
    "    x_text_numerical = text_numerical\n",
    "    x_text_fqid_numerical = text_fqid_numerical\n",
    "    x_room_fqid_numerical = room_fqid_numerical\n",
    "    x_page = page\n",
    "    x_hour = session_hour\n",
    "\n",
    "    JoWilder_numba_features.process_single(\n",
    "        level_group_index,\n",
    "        x_et,\n",
    "        x_en,\n",
    "        x_n,\n",
    "        x_hover_duration,\n",
    "        x_session_weekday,\n",
    "        x_b,\n",
    "        x_r,\n",
    "        x_fqids,\n",
    "        x_l,\n",
    "        x_index,\n",
    "        x_rc_x,\n",
    "        x_rc_y,\n",
    "        x_sc_x,\n",
    "        x_sc_y,\n",
    "        x_tl,\n",
    "        x_text_numerical,\n",
    "        x_text_fqid_numerical,\n",
    "        x_room_fqid_numerical,\n",
    "        x_page,\n",
    "        x_hour,\n",
    "        features,\n",
    "        hist,\n",
    "    )\n",
    "\n",
    "    number_of_events = x_et.shape[0]\n",
    "\n",
    "    JoWilder_C_features.lib.fill_history(\n",
    "        level_group_index,\n",
    "        x_l_pointer,\n",
    "        hist_pointer,\n",
    "        x_index_pointer,\n",
    "        x_text_numerical_pointer,\n",
    "        x_en_pointer,\n",
    "        x_n_pointer,\n",
    "        x_fqids_pointer,\n",
    "        x_et_pointer,\n",
    "        x_rc_x_pointer,\n",
    "        x_rc_y_pointer,\n",
    "        x_sc_x_pointer,\n",
    "        x_sc_y_pointer,\n",
    "        x_b_pointer,\n",
    "        x_r_pointer,\n",
    "        x_room_fqid_numerical_pointer,\n",
    "        x_text_fqid_numerical_pointer,\n",
    "        x_page_pointer,\n",
    "        x_hover_duration_pointer,\n",
    "        number_of_events,\n",
    "    )\n",
    "\n",
    "    JoWilder_C_features.lib.add_features_batch(\n",
    "        level_group_index,\n",
    "        features_pointer,\n",
    "        hist_pointer,\n",
    "        num_questions_in_level\n",
    "    )\n",
    "    \n",
    "    return features, question_number"
   ]
  },
  {
   "cell_type": "code",
   "execution_count": 14,
   "id": "a9a64a58",
   "metadata": {
    "execution": {
     "iopub.execute_input": "2023-08-05T03:54:24.391853Z",
     "iopub.status.busy": "2023-08-05T03:54:24.391292Z",
     "iopub.status.idle": "2023-08-05T03:54:24.399353Z",
     "shell.execute_reply": "2023-08-05T03:54:24.398577Z"
    },
    "papermill": {
     "duration": 0.015857,
     "end_time": "2023-08-05T03:54:24.401366",
     "exception": false,
     "start_time": "2023-08-05T03:54:24.385509",
     "status": "completed"
    },
    "tags": []
   },
   "outputs": [],
   "source": [
    "FEATURES_MASK = np.load(MODEL_DIR + f'FEATURE_MASK.npy')"
   ]
  },
  {
   "cell_type": "code",
   "execution_count": 15,
   "id": "46dec6bd",
   "metadata": {
    "execution": {
     "iopub.execute_input": "2023-08-05T03:54:24.412295Z",
     "iopub.status.busy": "2023-08-05T03:54:24.411719Z",
     "iopub.status.idle": "2023-08-05T03:54:24.617940Z",
     "shell.execute_reply": "2023-08-05T03:54:24.617146Z"
    },
    "papermill": {
     "duration": 0.21424,
     "end_time": "2023-08-05T03:54:24.620254",
     "exception": false,
     "start_time": "2023-08-05T03:54:24.406014",
     "status": "completed"
    },
    "tags": []
   },
   "outputs": [
    {
     "name": "stdout",
     "output_type": "stream",
     "text": [
      "This version of the API is not optimized and should not be used to estimate the runtime of your code on the hidden test set.\n"
     ]
    }
   ],
   "source": [
    "env = jo_wilder_310.make_env()\n",
    "iter_test = env.iter_test()\n",
    "\n",
    "history = {}\n",
    "\n",
    "for (test_df, sample_submission) in iter_test:\n",
    "    test_df.sort_values(by=['elapsed_time', 'index'], inplace=True)\n",
    "    \n",
    "    original_session_order = sample_submission['session_id'].values.copy()\n",
    "    \n",
    "    sample_submission['questions'] = sample_submission['session_id'].str.split('_').str[1].str[1:].astype(int)\n",
    "    sample_submission = sample_submission.sort_values(by = 'questions')\n",
    "    sample_submission = sample_submission[['session_id', 'correct']]\n",
    "    \n",
    "    #############################\n",
    "    \n",
    "    level_group = test_df['level_group'].values[0]\n",
    "    session_id = test_df['session_id'].values[0]\n",
    "    \n",
    "    try:\n",
    "        hist = history[session_id]\n",
    "    except KeyError:\n",
    "        hist = np.full(HISTORY_LEN, np.nan, dtype=np.float64)\n",
    "        history[session_id] = hist\n",
    "        \n",
    "    level_group_index = level_group_map[level_group]\n",
    "    \n",
    "    elapsed_time = test_df['elapsed_time'].values\n",
    "    index = test_df['index'].values\n",
    "\n",
    "    n = elapsed_time.shape[0]\n",
    "\n",
    "    temp = test_df['event_name'].values.astype('<U18')\n",
    "    numerical_event_name = JoWilder_preprocess_functions.event_name_to_number(temp.view(np.uint32).reshape((temp.shape[0], -1)))\n",
    "\n",
    "    temp = test_df['name'].values.astype('<U9')\n",
    "    numerical_name = JoWilder_preprocess_functions.name_to_number(temp.view(np.uint32).reshape((temp.shape[0], -1)))\n",
    "\n",
    "    level = test_df['level'].values\n",
    "    hover_duration = test_df['hover_duration'].values\n",
    "\n",
    "    temp = test_df['fqid'].fillna(\"\").values.astype('<U30')\n",
    "    numerical_fqid = JoWilder_preprocess_functions.fqids_to_number(temp.view(np.uint32).reshape((temp.shape[0], -1)))\n",
    "\n",
    "    room_coor_x = test_df['room_coor_x'].values\n",
    "    room_coor_y = test_df['room_coor_y'].values\n",
    "    screen_coor_x = test_df['screen_coor_x'].values\n",
    "    screen_coor_y = test_df['screen_coor_y'].values\n",
    "\n",
    "    _, _, session_weekday, session_hour = JoWilder_preprocess_functions.session_id_parser(session_id)\n",
    "\n",
    "    session_weekday = np.full(n, session_weekday, dtype=np.uint8)\n",
    "    session_hour = np.full(n, session_hour, dtype=np.uint8)\n",
    "\n",
    "    temp = test_df['text'].fillna(\"\").values.astype('<U89')\n",
    "    temp = temp.view(np.uint32).reshape((temp.shape[0], -1))\n",
    "    numerical_text = JoWilder_preprocess_functions.text_to_number(temp)\n",
    "\n",
    "    text_length = JoWilder_preprocess_functions.calculate_text_length(temp)\n",
    "\n",
    "    temp = test_df['text_fqid'].fillna(\"\").values.astype('<U71')\n",
    "    numerical_text_fqid = JoWilder_preprocess_functions.text_fqid_to_number(temp.view(np.uint32).reshape((temp.shape[0], -1)))\n",
    "\n",
    "    temp = test_df['room_fqid'].fillna(\"\").values.astype('<U39')\n",
    "    temp = temp.view(np.uint32).reshape((temp.shape[0], -1))\n",
    "    numerical_room_fqid = JoWilder_preprocess_functions.room_fqids_to_number(temp)# .astype(np.int64)\n",
    "\n",
    "    numerical_room_fqid_building, numerical_room_fqid_room = JoWilder_preprocess_functions.get_building_and_room(temp)\n",
    "\n",
    "    page = test_df['page'].values\n",
    "\n",
    "    features, question_number = generate_features(\n",
    "        session_id,\n",
    "        level_group_index,\n",
    "        elapsed_time,\n",
    "        numerical_event_name,\n",
    "        numerical_name,\n",
    "        level,\n",
    "        hover_duration,\n",
    "        session_weekday,\n",
    "        numerical_room_fqid_building,\n",
    "        numerical_room_fqid_room,\n",
    "        numerical_fqid,\n",
    "        index,\n",
    "        room_coor_x,\n",
    "        room_coor_y,\n",
    "        screen_coor_x,\n",
    "        screen_coor_y,\n",
    "        text_length,\n",
    "        numerical_text,\n",
    "        numerical_text_fqid,\n",
    "        numerical_room_fqid,\n",
    "        page,\n",
    "        session_hour,\n",
    "        hist,\n",
    "    )\n",
    "\n",
    "    features = features[:, FEATURES_MASK]\n",
    "    \n",
    "    p = model.predict(features)\n",
    "    \n",
    "    sample_submission['correct'] = (p > THRESHOLD).astype(int)\n",
    "    \n",
    "    #############################\n",
    "    \n",
    "    sample_submission = sample_submission.set_index('session_id').reindex(original_session_order).reset_index()\n",
    "    \n",
    "    assert np.all(sample_submission['session_id'].values == original_session_order)\n",
    "    \n",
    "    env.predict(sample_submission)"
   ]
  }
 ],
 "metadata": {
  "kernelspec": {
   "display_name": "Python 3",
   "language": "python",
   "name": "python3"
  },
  "language_info": {
   "codemirror_mode": {
    "name": "ipython",
    "version": 3
   },
   "file_extension": ".py",
   "mimetype": "text/x-python",
   "name": "python",
   "nbconvert_exporter": "python",
   "pygments_lexer": "ipython3",
   "version": "3.10.12"
  },
  "papermill": {
   "default_parameters": {},
   "duration": 13.488337,
   "end_time": "2023-08-05T03:54:25.648963",
   "environment_variables": {},
   "exception": null,
   "input_path": "__notebook__.ipynb",
   "output_path": "__notebook__.ipynb",
   "parameters": {},
   "start_time": "2023-08-05T03:54:12.160626",
   "version": "2.4.0"
  }
 },
 "nbformat": 4,
 "nbformat_minor": 5
}
